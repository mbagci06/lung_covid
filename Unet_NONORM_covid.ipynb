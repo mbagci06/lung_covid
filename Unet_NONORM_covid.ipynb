{
  "cells": [
    {
      "cell_type": "markdown",
      "metadata": {
        "id": "view-in-github",
        "colab_type": "text"
      },
      "source": [
        "<a href=\"https://colab.research.google.com/github/mbagci06/lung_covid/blob/main/Unet_NONORM_covid.ipynb\" target=\"_parent\"><img src=\"https://colab.research.google.com/assets/colab-badge.svg\" alt=\"Open In Colab\"/></a>"
      ]
    },
    {
      "cell_type": "code",
      "execution_count": 1,
      "metadata": {
        "id": "LGWjD0XF9yso"
      },
      "outputs": [],
      "source": [
        "# BASICS \n",
        "import os\n",
        "import numpy as np\n",
        "import torch\n",
        "\n",
        "\n",
        "# MODEL and TRAIN\n",
        "import torchvision\n",
        "import torchvision.models\n",
        "import torchvision.transforms as transforms\n",
        "from torch.utils.data import DataLoader,Dataset\n",
        "import random\n",
        "from skimage import io\n",
        "import torch.nn as nn\n",
        "import torch.nn.functional as F\n",
        "from matplotlib import pyplot as plt\n",
        "from torch import optim\n",
        "from PIL import Image"
      ]
    },
    {
      "cell_type": "code",
      "execution_count": 2,
      "metadata": {
        "colab": {
          "base_uri": "https://localhost:8080/"
        },
        "id": "GE-AMYhPktIt",
        "outputId": "87a5fb24-a5c7-424d-af14-4764caf79e8a"
      },
      "outputs": [
        {
          "output_type": "stream",
          "name": "stdout",
          "text": [
            "Cloning into 'lung_covid'...\n",
            "remote: Enumerating objects: 157, done.\u001b[K\n",
            "remote: Counting objects: 100% (57/57), done.\u001b[K\n",
            "remote: Compressing objects: 100% (57/57), done.\u001b[K\n",
            "remote: Total 157 (delta 28), reused 0 (delta 0), pack-reused 100\u001b[K\n",
            "Receiving objects: 100% (157/157), 1.20 MiB | 5.54 MiB/s, done.\n",
            "Resolving deltas: 100% (76/76), done.\n",
            "Looking in indexes: https://pypi.org/simple, https://us-python.pkg.dev/colab-wheels/public/simple/\n",
            "Requirement already satisfied: kaggle in /usr/local/lib/python3.7/dist-packages (1.5.12)\n",
            "Requirement already satisfied: six>=1.10 in /usr/local/lib/python3.7/dist-packages (from kaggle) (1.15.0)\n",
            "Requirement already satisfied: tqdm in /usr/local/lib/python3.7/dist-packages (from kaggle) (4.64.0)\n",
            "Requirement already satisfied: python-dateutil in /usr/local/lib/python3.7/dist-packages (from kaggle) (2.8.2)\n",
            "Requirement already satisfied: certifi in /usr/local/lib/python3.7/dist-packages (from kaggle) (2022.5.18.1)\n",
            "Requirement already satisfied: python-slugify in /usr/local/lib/python3.7/dist-packages (from kaggle) (6.1.2)\n",
            "Requirement already satisfied: urllib3 in /usr/local/lib/python3.7/dist-packages (from kaggle) (1.24.3)\n",
            "Requirement already satisfied: requests in /usr/local/lib/python3.7/dist-packages (from kaggle) (2.23.0)\n",
            "Requirement already satisfied: text-unidecode>=1.3 in /usr/local/lib/python3.7/dist-packages (from python-slugify->kaggle) (1.3)\n",
            "Requirement already satisfied: chardet<4,>=3.0.2 in /usr/local/lib/python3.7/dist-packages (from requests->kaggle) (3.0.4)\n",
            "Requirement already satisfied: idna<3,>=2.5 in /usr/local/lib/python3.7/dist-packages (from requests->kaggle) (2.10)\n",
            "Downloading covidqu.zip to /content\n",
            "100% 1.15G/1.15G [00:43<00:00, 30.2MB/s]\n",
            "100% 1.15G/1.15G [00:43<00:00, 28.3MB/s]\n"
          ]
        }
      ],
      "source": [
        "! git clone https://github.com/mbagci06/lung_covid\n",
        "! pip install kaggle\n",
        "! mkdir ~/.kaggle\n",
        "! cp lung_covid/kaggle.json ~/.kaggle/\n",
        "! chmod 600 ~/.kaggle/kaggle.json\n",
        "! kaggle datasets download -d anasmohammedtahir/covidqu"
      ]
    },
    {
      "cell_type": "code",
      "execution_count": 3,
      "metadata": {
        "id": "BYpChgDck17h"
      },
      "outputs": [],
      "source": [
        "# The last part to hide output bacause it is more then 30000 lines\n",
        "!unzip \"/content/covidqu.zip\" -d \"/content/archive/\" &> /dev/null"
      ]
    },
    {
      "cell_type": "code",
      "execution_count": 4,
      "metadata": {
        "id": "QVypgdMuFuld"
      },
      "outputs": [],
      "source": [
        "# running  .ipynb scripts to call their functions\n",
        "%run lung_covid/functions.ipynb\n",
        "%run lung_covid/unet.ipynb\n",
        "\n",
        "# !cp -avr lung_covid/model/ .\n",
        "# from model.unet import UNet, PretrainedUNet"
      ]
    },
    {
      "cell_type": "code",
      "execution_count": 5,
      "metadata": {
        "id": "0huM4idKuXt2",
        "colab": {
          "base_uri": "https://localhost:8080/",
          "height": 66,
          "referenced_widgets": [
            "386173a7349a4b03b5f16ac1252c43a0",
            "58ef2d1163994aa7b5583f57005ec289",
            "f0c80cee295e4389aad4d7e25e51fc4f",
            "2a24de15730c49e3840b54d43b5f0c9a",
            "6961749cac0e4f0e93cb801be66a7057",
            "a1a086e767714d8580b2fdcedf3a38a6",
            "dc9bade6ad9845e29e4f5b7efef4a33b",
            "044f55d6fa31465a93c915bee72a9dc0",
            "148dbc4499364015926fcdbea236451d",
            "c3241761685a4bf693ad935abbf8a6ac",
            "503c026db29449028c25f2ba6b420ddb"
          ]
        },
        "outputId": "e1229a63-5559-4eae-975c-b12fda1576a5"
      },
      "outputs": [
        {
          "output_type": "stream",
          "name": "stderr",
          "text": [
            "Downloading: \"https://download.pytorch.org/models/resnet101-63fe2227.pth\" to /root/.cache/torch/hub/checkpoints/resnet101-63fe2227.pth\n"
          ]
        },
        {
          "output_type": "display_data",
          "data": {
            "text/plain": [
              "  0%|          | 0.00/171M [00:00<?, ?B/s]"
            ],
            "application/vnd.jupyter.widget-view+json": {
              "version_major": 2,
              "version_minor": 0,
              "model_id": "386173a7349a4b03b5f16ac1252c43a0"
            }
          },
          "metadata": {}
        }
      ],
      "source": [
        "# The Calling the validaton dataset\n",
        "val=Lung_Dataset_RGB(split = \"Val\",class_folder='covid',shuffle=True,sample_size=700,norm=False)# The length of the validation dataset to calculate the average value of the loss and accuracy\n",
        "# The size of the dataset for calculate average datas\n",
        "val_size=val.__len__()\n",
        "# The Train dataset \n",
        "tra=Lung_Dataset_RGB(split = \"Train\",class_folder='covid',shuffle=True,sample_size=4000,norm=False)\n",
        "tra_size=tra.__len__()\n",
        "# # The transform functions to conver the PIL images to the tensors\n",
        "\n",
        "\n",
        "# The device looks for GPU if cannot find goes with CPU\n",
        "device=torch.device('cuda') if torch.cuda.is_available() else torch.device('cpu')\n",
        "# The model is called by this function from the model.py file \n",
        "net = Unet_Res().to(device)\n",
        "# The adam optimizer for optimization the values will be same for the other model training\n",
        "optimizer = optim.Adam(net.parameters(), lr= 0.0001)\n",
        "# The Loss function Cross entropy the value \n",
        "criterion = nn.CrossEntropyLoss()\n"
      ]
    },
    {
      "cell_type": "code",
      "source": [
        "from google.colab import drive\n",
        "drive.mount('/content/drive')"
      ],
      "metadata": {
        "colab": {
          "base_uri": "https://localhost:8080/"
        },
        "id": "fc0ud2Zb8fA6",
        "outputId": "3c492cc6-2afe-4407-bbc4-ef45ed879852"
      },
      "execution_count": 11,
      "outputs": [
        {
          "output_type": "stream",
          "name": "stdout",
          "text": [
            "Mounted at /content/drive\n"
          ]
        }
      ]
    },
    {
      "cell_type": "code",
      "execution_count": 6,
      "metadata": {
        "id": "Zual9umpPV3S"
      },
      "outputs": [],
      "source": [
        "batch_size=30\n",
        "# loading images and masks for mini batches\n",
        "data_loader = torch.utils.data.DataLoader(\n",
        "        tra, batch_size=batch_size,  num_workers=2, drop_last=True)\n",
        "\n",
        "data_loader_val = torch.utils.data.DataLoader(\n",
        "        val, batch_size=batch_size,  num_workers=2, drop_last=True)"
      ]
    },
    {
      "cell_type": "code",
      "execution_count": 7,
      "metadata": {
        "id": "3QY9Q8IaL2wA",
        "colab": {
          "base_uri": "https://localhost:8080/"
        },
        "outputId": "89dc5bf9-a7f0-4fe7-f88c-47e591bc05d5"
      },
      "outputs": [
        {
          "output_type": "stream",
          "name": "stdout",
          "text": [
            "Wed Jun  8 19:34:17 2022       \n",
            "+-----------------------------------------------------------------------------+\n",
            "| NVIDIA-SMI 460.32.03    Driver Version: 460.32.03    CUDA Version: 11.2     |\n",
            "|-------------------------------+----------------------+----------------------+\n",
            "| GPU  Name        Persistence-M| Bus-Id        Disp.A | Volatile Uncorr. ECC |\n",
            "| Fan  Temp  Perf  Pwr:Usage/Cap|         Memory-Usage | GPU-Util  Compute M. |\n",
            "|                               |                      |               MIG M. |\n",
            "|===============================+======================+======================|\n",
            "|   0  Tesla P100-PCIE...  Off  | 00000000:00:04.0 Off |                    0 |\n",
            "| N/A   33C    P0    32W / 250W |   1185MiB / 16280MiB |     15%      Default |\n",
            "|                               |                      |                  N/A |\n",
            "+-------------------------------+----------------------+----------------------+\n",
            "                                                                               \n",
            "+-----------------------------------------------------------------------------+\n",
            "| Processes:                                                                  |\n",
            "|  GPU   GI   CI        PID   Type   Process name                  GPU Memory |\n",
            "|        ID   ID                                                   Usage      |\n",
            "|=============================================================================|\n",
            "+-----------------------------------------------------------------------------+\n"
          ]
        }
      ],
      "source": [
        "# The stiation of the GPU\n",
        "!nvidia-smi"
      ]
    },
    {
      "cell_type": "code",
      "execution_count": 8,
      "metadata": {
        "id": "XbxMX9mIulgZ",
        "colab": {
          "base_uri": "https://localhost:8080/"
        },
        "outputId": "397bb18b-aa5f-4ddc-99fc-76fade1bc3a4"
      },
      "outputs": [
        {
          "output_type": "stream",
          "name": "stdout",
          "text": [
            "Epoch : 1 / 30\n",
            "Validation Loss:v 0.2732811506305422\n",
            "Validation Acc: 0.9203064910003118\n",
            "Train Acc: 0.773517810959417\n",
            "Train  Loss   :t 0.45219098645474265\n",
            "Epoch : 2 / 30\n",
            "Validation Loss:v 0.28580444008111955\n",
            "Validation Acc: 0.8993451348372868\n",
            "Train Acc: 0.9590842923381298\n",
            "Train  Loss   :t 0.17364906135131106\n",
            "Epoch : 3 / 30\n",
            "Validation Loss:v 0.10701802234564509\n",
            "Validation Acc: 0.9416752108505795\n",
            "Train Acc: 0.9718370570325544\n",
            "Train  Loss   :t 0.08690205776400449\n",
            "Epoch : 4 / 30\n",
            "Validation Loss:v 0.0823005134505885\n",
            "Validation Acc: 0.9491820880344937\n",
            "Train Acc: 0.9772772911152615\n",
            "Train  Loss   :t 0.05840461889018061\n",
            "Epoch : 5 / 30\n",
            "Validation Loss:v 0.07933226839772294\n",
            "Validation Acc: 0.953645692552839\n",
            "Train Acc: 0.980431972783011\n",
            "Train  Loss   :t 0.045332676764026025\n",
            "Epoch : 6 / 30\n",
            "Validation Loss:v 0.0965935189809118\n",
            "Validation Acc: 0.9468347081116268\n",
            "Train Acc: 0.9822491319778139\n",
            "Train  Loss   :t 0.03823964529303042\n",
            "Epoch : 7 / 30\n",
            "Validation Loss:v 0.06991703542215484\n",
            "Validation Acc: 0.9566650475774493\n",
            "Train Acc: 0.9843559860543631\n",
            "Train  Loss   :t 0.0324191003258424\n",
            "Epoch : 8 / 30\n",
            "Validation Loss:v 0.13807613381317685\n",
            "Validation Acc: 0.9410972433430809\n",
            "Train Acc: 0.9854247552130867\n",
            "Train  Loss   :t 0.028847437516822134\n",
            "Epoch : 9 / 30\n",
            "Validation Loss:v 0.08088130541145802\n",
            "Validation Acc: 0.9550138439450946\n",
            "Train Acc: 0.9857785650588924\n",
            "Train  Loss   :t 0.02766715251748718\n",
            "Epoch : 10 / 30\n",
            "Validation Loss:v 0.08547830656170846\n",
            "Validation Acc: 0.9548711197716849\n",
            "Train Acc: 0.9867697842259264\n",
            "Train  Loss   :t 0.02486459104955804\n",
            "Epoch : 11 / 30\n",
            "Validation Loss:v 0.08202226268393653\n",
            "Validation Acc: 0.9570661323411125\n",
            "Train Acc: 0.987631273595816\n",
            "Train  Loss   :t 0.02259104388222386\n",
            "Epoch : 12 / 30\n",
            "Validation Loss:v 0.08677446490951947\n",
            "Validation Acc: 0.9572165429592133\n",
            "Train Acc: 0.9890852927713947\n",
            "Train  Loss   :t 0.019196995490034764\n",
            "Epoch : 13 / 30\n",
            "Validation Loss:v 0.08840752531375204\n",
            "Validation Acc: 0.9576768841062274\n",
            "Train Acc: 0.9900835033330283\n",
            "Train  Loss   :t 0.016899438179697635\n",
            "Epoch : 14 / 30\n",
            "Validation Loss:v 0.10195769082222667\n",
            "Validation Acc: 0.9531928794724601\n",
            "Train Acc: 0.9904537743253258\n",
            "Train  Loss   :t 0.016031965761757236\n",
            "Epoch : 15 / 30\n",
            "Validation Loss:v 0.10325369238853455\n",
            "Validation Acc: 0.9543315538338253\n",
            "Train Acc: 0.9900349938178779\n",
            "Train  Loss   :t 0.01669571791923417\n",
            "Epoch : 16 / 30\n",
            "Validation Loss:v 0.08635300174355508\n",
            "Validation Acc: 0.9589878584657398\n",
            "Train Acc: 0.9899845278058441\n",
            "Train  Loss   :t 0.01655904217443305\n",
            "Epoch : 17 / 30\n",
            "Validation Loss:v 0.09224194075380053\n",
            "Validation Acc: 0.9593771312917982\n",
            "Train Acc: 0.990705050592003\n",
            "Train  Loss   :t 0.014868442477786297\n",
            "Epoch : 18 / 30\n",
            "Validation Loss:v 0.0903030668518373\n",
            "Validation Acc: 0.9606949184622083\n",
            "Train Acc: 0.9916972573606753\n",
            "Train  Loss   :t 0.012814383539111381\n",
            "Epoch : 19 / 30\n",
            "Validation Loss:v 0.10917622223496437\n",
            "Validation Acc: 0.9567831695079804\n",
            "Train Acc: 0.992243793421293\n",
            "Train  Loss   :t 0.011739982238345152\n",
            "Epoch : 20 / 30\n",
            "Validation Loss:v 0.10869091163788523\n",
            "Validation Acc: 0.9573063484260015\n",
            "Train Acc: 0.9919268984843221\n",
            "Train  Loss   :t 0.012375958984100176\n",
            "Epoch : 21 / 30\n",
            "Validation Loss:v 0.10405233736549105\n",
            "Validation Acc: 0.9577049016952515\n",
            "Train Acc: 0.9918908407120234\n",
            "Train  Loss   :t 0.01232236370573204\n",
            "Epoch : 22 / 30\n",
            "Validation Loss:v 0.10733545827014106\n",
            "Validation Acc: 0.9579450845718385\n",
            "Train Acc: 0.9916996752819278\n",
            "Train  Loss   :t 0.012644014765694338\n",
            "Epoch : 23 / 30\n",
            "Validation Loss:v 0.11164300963282586\n",
            "Validation Acc: 0.9564884202820915\n",
            "Train Acc: 0.9920831294850219\n",
            "Train  Loss   :t 0.011818535101815835\n",
            "Epoch : 24 / 30\n",
            "Validation Loss:v 0.10325772943241256\n",
            "Validation Acc: 0.9582060200827462\n",
            "Train Acc: 0.9922190026536009\n",
            "Train  Loss   :t 0.011531607548420442\n",
            "Epoch : 25 / 30\n",
            "Validation Loss:v 0.11421717160514423\n",
            "Validation Acc: 0.9589024645941598\n",
            "Train Acc: 0.9925593741142187\n",
            "Train  Loss   :t 0.011039606001739722\n",
            "Epoch : 26 / 30\n",
            "Validation Loss:v 0.0808045081794262\n",
            "Validation Acc: 0.9543164236204965\n",
            "Train Acc: 0.9857289887996702\n",
            "Train  Loss   :t 0.02658129521833469\n",
            "Epoch : 27 / 30\n",
            "Validation Loss:v 0.09337002581783704\n",
            "Validation Acc: 0.9572477894169944\n",
            "Train Acc: 0.9893092169334449\n",
            "Train  Loss   :t 0.01853512202853201\n",
            "Epoch : 28 / 30\n",
            "Validation Loss:v 0.09478815219232015\n",
            "Validation Acc: 0.9594311101096018\n",
            "Train Acc: 0.9923926843210351\n",
            "Train  Loss   :t 0.01167333904077207\n",
            "Epoch : 29 / 30\n",
            "Validation Loss:v 0.10350459292531014\n",
            "Validation Acc: 0.9591695666313171\n",
            "Train Acc: 0.99362047317202\n",
            "Train  Loss   :t 0.008829367328824899\n",
            "Epoch : 30 / 30\n",
            "Validation Loss:v 0.10666687009590013\n",
            "Validation Acc: 0.9596502082688468\n",
            "Train Acc: 0.993611370353228\n",
            "Train  Loss   :t 0.008839358202913225\n"
          ]
        }
      ],
      "source": [
        "# The number of the epoch \n",
        "epoch_number=30\n",
        "# list for the calculating validation Loss\n",
        "val_loss_array=[]\n",
        "# list for the calculating train Loss\n",
        "train_loss_array=[]\n",
        "# list for the calculating validation accuracy\n",
        "acc_val_array=[]\n",
        "# list for the calculating train accuracy\n",
        "acc_train_array=[]\n",
        "for t in range(epoch_number):\n",
        "    # reset the loss and the accuracy values each epoch \n",
        "    val_loss=0\n",
        "    train_loss=0\n",
        "    acc_val=0\n",
        "    acc_train=0\n",
        "    for batch_idx, sample in enumerate(data_loader):\n",
        "        # Train data preparing \n",
        "        imgs , true_masks = sample['image'],sample['mask']\n",
        "        imgs = imgs.to(device=device)\n",
        "        # The negative takes the masks and doubles the channels with inverse (0 to 1) shape  \n",
        "        true_masks=Negative_mask(true_masks,imgs.size(dim=0))\n",
        "        true_masks = true_masks.to(device=device)\n",
        "        net.train()\n",
        "        # zero the parameter gradients\n",
        "        optimizer.zero_grad()\n",
        "        \n",
        "\n",
        "        with torch.set_grad_enabled(True):\n",
        "            # Train data evaluation\n",
        "            masks_pred = net(imgs)\n",
        "            loss = criterion(masks_pred, true_masks)\n",
        "            train_loss += loss.item()\n",
        "            # Updating the params\n",
        "            loss.backward()\n",
        "            optimizer.step()\n",
        "            # Acc calc train\n",
        "            acc_train+=binary_acc( masks_pred, true_masks).item()\n",
        "    for batch_idx, sample in enumerate(data_loader_val):\n",
        "        # Validation data preparing  and calling \n",
        "        # calcel gradient feature \n",
        "        net.eval()\n",
        "\n",
        "        # Call iamge and mask\n",
        "        imgs , true_masks = sample['image'],sample['mask']\n",
        "\n",
        "        imgs = imgs.to(device=device)\n",
        "        true_masks=Negative_mask(true_masks,imgs.size(dim=0))\n",
        "        true_masks = true_masks.to(device=device)\n",
        "\n",
        "        # zero the parameter gradients\n",
        "        optimizer.zero_grad()\n",
        "\n",
        "        with torch.set_grad_enabled(False):\n",
        "            # Validation evaluation \n",
        "            masks_pred = net(imgs)\n",
        "            masks_pred = masks_pred.to(device=device)\n",
        "            loss_val = criterion(masks_pred, true_masks)\n",
        "            acc_val +=binary_acc( masks_pred, true_masks).item()\n",
        "            val_loss += loss_val.item()\n",
        "\n",
        "    batch_size\n",
        "    print('Epoch :',t+1,'/',str(epoch_number))\n",
        "    print('Validation Loss:v',(val_loss)/(val_size/batch_size))\n",
        "    print('Validation Acc:',(acc_val)/(val_size/batch_size))\n",
        "    print('Train Acc:',(acc_train)/(tra_size/batch_size))\n",
        "    print('Train  Loss   :t',(train_loss)/(tra_size/batch_size))\n",
        "    # Store epoch progress\n",
        "    val_loss_array.append((val_loss)/(val_size/batch_size))\n",
        "    train_loss_array.append((train_loss)/(tra_size/batch_size))\n",
        "    acc_val_array.append((acc_val)/(val_size/batch_size))\n",
        "    acc_train_array.append((acc_train)/(tra_size/batch_size))"
      ]
    },
    {
      "cell_type": "code",
      "execution_count": 9,
      "metadata": {
        "id": "jMMmS7Kk0wKB"
      },
      "outputs": [],
      "source": [
        "import copy\n",
        "# Save Model to the drive folder \n",
        "best_model_wts = copy.deepcopy(net.state_dict())\n",
        "torch.save({    \n",
        "    'epoch':epoch_number,\n",
        "    'model_state_dict':best_model_wts,\n",
        "    'optimizer_state_dict': optimizer.state_dict()\n",
        "     \n",
        "},os.path.join(os.getcwd(),'UNet_NONORM_covid_{}_epoch.pt'.format(epoch_number)))"
      ]
    },
    {
      "cell_type": "code",
      "execution_count": 10,
      "metadata": {
        "id": "KbymRfrq0v55"
      },
      "outputs": [],
      "source": [
        "# Save loss and acc information to the txt \n",
        "textfile = open(\"UNet_NONORM_covid_{}_epo.txt\".format(epoch_number), \"w\")\n",
        "# The form of the saved values are important when we used them to plot\n",
        "biglist=val_loss_array+   train_loss_array+    acc_val_array+    acc_train_array\n",
        "textfile. write(\"running_loss_array+   train_loss_array+    acc_val_array+    acc_train_array\"+ \"\\n\")\n",
        "for element in [biglist]:\n",
        "    textfile. write(str(element) + \"\\n\")\n",
        "textfile. close()\n"
      ]
    }
  ],
  "metadata": {
    "accelerator": "GPU",
    "colab": {
      "collapsed_sections": [],
      "name": "Unet_NONORM_covid.ipynb",
      "provenance": [],
      "include_colab_link": true
    },
    "kernelspec": {
      "display_name": "Python 3",
      "name": "python3"
    },
    "language_info": {
      "name": "python"
    },
    "widgets": {
      "application/vnd.jupyter.widget-state+json": {
        "386173a7349a4b03b5f16ac1252c43a0": {
          "model_module": "@jupyter-widgets/controls",
          "model_name": "HBoxModel",
          "model_module_version": "1.5.0",
          "state": {
            "_dom_classes": [],
            "_model_module": "@jupyter-widgets/controls",
            "_model_module_version": "1.5.0",
            "_model_name": "HBoxModel",
            "_view_count": null,
            "_view_module": "@jupyter-widgets/controls",
            "_view_module_version": "1.5.0",
            "_view_name": "HBoxView",
            "box_style": "",
            "children": [
              "IPY_MODEL_58ef2d1163994aa7b5583f57005ec289",
              "IPY_MODEL_f0c80cee295e4389aad4d7e25e51fc4f",
              "IPY_MODEL_2a24de15730c49e3840b54d43b5f0c9a"
            ],
            "layout": "IPY_MODEL_6961749cac0e4f0e93cb801be66a7057"
          }
        },
        "58ef2d1163994aa7b5583f57005ec289": {
          "model_module": "@jupyter-widgets/controls",
          "model_name": "HTMLModel",
          "model_module_version": "1.5.0",
          "state": {
            "_dom_classes": [],
            "_model_module": "@jupyter-widgets/controls",
            "_model_module_version": "1.5.0",
            "_model_name": "HTMLModel",
            "_view_count": null,
            "_view_module": "@jupyter-widgets/controls",
            "_view_module_version": "1.5.0",
            "_view_name": "HTMLView",
            "description": "",
            "description_tooltip": null,
            "layout": "IPY_MODEL_a1a086e767714d8580b2fdcedf3a38a6",
            "placeholder": "​",
            "style": "IPY_MODEL_dc9bade6ad9845e29e4f5b7efef4a33b",
            "value": "100%"
          }
        },
        "f0c80cee295e4389aad4d7e25e51fc4f": {
          "model_module": "@jupyter-widgets/controls",
          "model_name": "FloatProgressModel",
          "model_module_version": "1.5.0",
          "state": {
            "_dom_classes": [],
            "_model_module": "@jupyter-widgets/controls",
            "_model_module_version": "1.5.0",
            "_model_name": "FloatProgressModel",
            "_view_count": null,
            "_view_module": "@jupyter-widgets/controls",
            "_view_module_version": "1.5.0",
            "_view_name": "ProgressView",
            "bar_style": "success",
            "description": "",
            "description_tooltip": null,
            "layout": "IPY_MODEL_044f55d6fa31465a93c915bee72a9dc0",
            "max": 178793939,
            "min": 0,
            "orientation": "horizontal",
            "style": "IPY_MODEL_148dbc4499364015926fcdbea236451d",
            "value": 178793939
          }
        },
        "2a24de15730c49e3840b54d43b5f0c9a": {
          "model_module": "@jupyter-widgets/controls",
          "model_name": "HTMLModel",
          "model_module_version": "1.5.0",
          "state": {
            "_dom_classes": [],
            "_model_module": "@jupyter-widgets/controls",
            "_model_module_version": "1.5.0",
            "_model_name": "HTMLModel",
            "_view_count": null,
            "_view_module": "@jupyter-widgets/controls",
            "_view_module_version": "1.5.0",
            "_view_name": "HTMLView",
            "description": "",
            "description_tooltip": null,
            "layout": "IPY_MODEL_c3241761685a4bf693ad935abbf8a6ac",
            "placeholder": "​",
            "style": "IPY_MODEL_503c026db29449028c25f2ba6b420ddb",
            "value": " 171M/171M [00:01&lt;00:00, 201MB/s]"
          }
        },
        "6961749cac0e4f0e93cb801be66a7057": {
          "model_module": "@jupyter-widgets/base",
          "model_name": "LayoutModel",
          "model_module_version": "1.2.0",
          "state": {
            "_model_module": "@jupyter-widgets/base",
            "_model_module_version": "1.2.0",
            "_model_name": "LayoutModel",
            "_view_count": null,
            "_view_module": "@jupyter-widgets/base",
            "_view_module_version": "1.2.0",
            "_view_name": "LayoutView",
            "align_content": null,
            "align_items": null,
            "align_self": null,
            "border": null,
            "bottom": null,
            "display": null,
            "flex": null,
            "flex_flow": null,
            "grid_area": null,
            "grid_auto_columns": null,
            "grid_auto_flow": null,
            "grid_auto_rows": null,
            "grid_column": null,
            "grid_gap": null,
            "grid_row": null,
            "grid_template_areas": null,
            "grid_template_columns": null,
            "grid_template_rows": null,
            "height": null,
            "justify_content": null,
            "justify_items": null,
            "left": null,
            "margin": null,
            "max_height": null,
            "max_width": null,
            "min_height": null,
            "min_width": null,
            "object_fit": null,
            "object_position": null,
            "order": null,
            "overflow": null,
            "overflow_x": null,
            "overflow_y": null,
            "padding": null,
            "right": null,
            "top": null,
            "visibility": null,
            "width": null
          }
        },
        "a1a086e767714d8580b2fdcedf3a38a6": {
          "model_module": "@jupyter-widgets/base",
          "model_name": "LayoutModel",
          "model_module_version": "1.2.0",
          "state": {
            "_model_module": "@jupyter-widgets/base",
            "_model_module_version": "1.2.0",
            "_model_name": "LayoutModel",
            "_view_count": null,
            "_view_module": "@jupyter-widgets/base",
            "_view_module_version": "1.2.0",
            "_view_name": "LayoutView",
            "align_content": null,
            "align_items": null,
            "align_self": null,
            "border": null,
            "bottom": null,
            "display": null,
            "flex": null,
            "flex_flow": null,
            "grid_area": null,
            "grid_auto_columns": null,
            "grid_auto_flow": null,
            "grid_auto_rows": null,
            "grid_column": null,
            "grid_gap": null,
            "grid_row": null,
            "grid_template_areas": null,
            "grid_template_columns": null,
            "grid_template_rows": null,
            "height": null,
            "justify_content": null,
            "justify_items": null,
            "left": null,
            "margin": null,
            "max_height": null,
            "max_width": null,
            "min_height": null,
            "min_width": null,
            "object_fit": null,
            "object_position": null,
            "order": null,
            "overflow": null,
            "overflow_x": null,
            "overflow_y": null,
            "padding": null,
            "right": null,
            "top": null,
            "visibility": null,
            "width": null
          }
        },
        "dc9bade6ad9845e29e4f5b7efef4a33b": {
          "model_module": "@jupyter-widgets/controls",
          "model_name": "DescriptionStyleModel",
          "model_module_version": "1.5.0",
          "state": {
            "_model_module": "@jupyter-widgets/controls",
            "_model_module_version": "1.5.0",
            "_model_name": "DescriptionStyleModel",
            "_view_count": null,
            "_view_module": "@jupyter-widgets/base",
            "_view_module_version": "1.2.0",
            "_view_name": "StyleView",
            "description_width": ""
          }
        },
        "044f55d6fa31465a93c915bee72a9dc0": {
          "model_module": "@jupyter-widgets/base",
          "model_name": "LayoutModel",
          "model_module_version": "1.2.0",
          "state": {
            "_model_module": "@jupyter-widgets/base",
            "_model_module_version": "1.2.0",
            "_model_name": "LayoutModel",
            "_view_count": null,
            "_view_module": "@jupyter-widgets/base",
            "_view_module_version": "1.2.0",
            "_view_name": "LayoutView",
            "align_content": null,
            "align_items": null,
            "align_self": null,
            "border": null,
            "bottom": null,
            "display": null,
            "flex": null,
            "flex_flow": null,
            "grid_area": null,
            "grid_auto_columns": null,
            "grid_auto_flow": null,
            "grid_auto_rows": null,
            "grid_column": null,
            "grid_gap": null,
            "grid_row": null,
            "grid_template_areas": null,
            "grid_template_columns": null,
            "grid_template_rows": null,
            "height": null,
            "justify_content": null,
            "justify_items": null,
            "left": null,
            "margin": null,
            "max_height": null,
            "max_width": null,
            "min_height": null,
            "min_width": null,
            "object_fit": null,
            "object_position": null,
            "order": null,
            "overflow": null,
            "overflow_x": null,
            "overflow_y": null,
            "padding": null,
            "right": null,
            "top": null,
            "visibility": null,
            "width": null
          }
        },
        "148dbc4499364015926fcdbea236451d": {
          "model_module": "@jupyter-widgets/controls",
          "model_name": "ProgressStyleModel",
          "model_module_version": "1.5.0",
          "state": {
            "_model_module": "@jupyter-widgets/controls",
            "_model_module_version": "1.5.0",
            "_model_name": "ProgressStyleModel",
            "_view_count": null,
            "_view_module": "@jupyter-widgets/base",
            "_view_module_version": "1.2.0",
            "_view_name": "StyleView",
            "bar_color": null,
            "description_width": ""
          }
        },
        "c3241761685a4bf693ad935abbf8a6ac": {
          "model_module": "@jupyter-widgets/base",
          "model_name": "LayoutModel",
          "model_module_version": "1.2.0",
          "state": {
            "_model_module": "@jupyter-widgets/base",
            "_model_module_version": "1.2.0",
            "_model_name": "LayoutModel",
            "_view_count": null,
            "_view_module": "@jupyter-widgets/base",
            "_view_module_version": "1.2.0",
            "_view_name": "LayoutView",
            "align_content": null,
            "align_items": null,
            "align_self": null,
            "border": null,
            "bottom": null,
            "display": null,
            "flex": null,
            "flex_flow": null,
            "grid_area": null,
            "grid_auto_columns": null,
            "grid_auto_flow": null,
            "grid_auto_rows": null,
            "grid_column": null,
            "grid_gap": null,
            "grid_row": null,
            "grid_template_areas": null,
            "grid_template_columns": null,
            "grid_template_rows": null,
            "height": null,
            "justify_content": null,
            "justify_items": null,
            "left": null,
            "margin": null,
            "max_height": null,
            "max_width": null,
            "min_height": null,
            "min_width": null,
            "object_fit": null,
            "object_position": null,
            "order": null,
            "overflow": null,
            "overflow_x": null,
            "overflow_y": null,
            "padding": null,
            "right": null,
            "top": null,
            "visibility": null,
            "width": null
          }
        },
        "503c026db29449028c25f2ba6b420ddb": {
          "model_module": "@jupyter-widgets/controls",
          "model_name": "DescriptionStyleModel",
          "model_module_version": "1.5.0",
          "state": {
            "_model_module": "@jupyter-widgets/controls",
            "_model_module_version": "1.5.0",
            "_model_name": "DescriptionStyleModel",
            "_view_count": null,
            "_view_module": "@jupyter-widgets/base",
            "_view_module_version": "1.2.0",
            "_view_name": "StyleView",
            "description_width": ""
          }
        }
      }
    }
  },
  "nbformat": 4,
  "nbformat_minor": 0
}