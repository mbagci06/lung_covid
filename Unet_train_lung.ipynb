{
  "cells": [
    {
      "cell_type": "markdown",
      "metadata": {
        "id": "view-in-github",
        "colab_type": "text"
      },
      "source": [
        "<a href=\"https://colab.research.google.com/github/mbagci06/lung_covid/blob/main/Unet_train_lung.ipynb\" target=\"_parent\"><img src=\"https://colab.research.google.com/assets/colab-badge.svg\" alt=\"Open In Colab\"/></a>"
      ]
    },
    {
      "cell_type": "code",
      "execution_count": 1,
      "metadata": {
        "id": "LGWjD0XF9yso"
      },
      "outputs": [],
      "source": [
        "# BASICS \n",
        "import os\n",
        "import numpy as np\n",
        "import torch\n",
        "\n",
        "# # Colab \n",
        "# from pydrive.drive import GoogleDrive\n",
        "# from google.colab import drive\n",
        "# from google.colab import files\n",
        "# from pydrive.auth import GoogleAuth\n",
        "# from google.colab import auth\n",
        "# from oauth2client.client import GoogleCredentials\n",
        "# # to reach the dataset in the drive files and other functions but submittion there should not be\n",
        "# drive.mount('/content/drive')\n",
        "# auth.authenticate_user()\n",
        "# gauth = GoogleAuth()\n",
        "# gauth.credentials = GoogleCredentials.get_application_default()\n",
        "# drive = GoogleDrive(gauth)\n",
        "# MODEL and TRAIN\n",
        "import torchvision\n",
        "import torchvision.models\n",
        "import torchvision.transforms as transforms\n",
        "from torch.utils.data import DataLoader,Dataset\n",
        "import random\n",
        "from skimage import io\n",
        "import torch.nn as nn\n",
        "import torch.nn.functional as F\n",
        "from matplotlib import pyplot as plt\n",
        "from torch import optim\n",
        "from PIL import Image"
      ]
    },
    {
      "cell_type": "code",
      "source": [
        "! git clone https://github.com/mbagci06/lung_covid\n",
        "! pip install kaggle\n",
        "! mkdir ~/.kaggle\n",
        "! cp lung_covid/kaggle.json ~/.kaggle/\n",
        "! chmod 600 ~/.kaggle/kaggle.json\n",
        "! kaggle datasets download -d anasmohammedtahir/covidqu"
      ],
      "metadata": {
        "colab": {
          "base_uri": "https://localhost:8080/"
        },
        "id": "GE-AMYhPktIt",
        "outputId": "01c9b7da-c655-4e0e-c329-23ae106618ce"
      },
      "execution_count": 2,
      "outputs": [
        {
          "output_type": "stream",
          "name": "stdout",
          "text": [
            "Cloning into 'lung_covid'...\n",
            "remote: Enumerating objects: 54, done.\u001b[K\n",
            "remote: Counting objects: 100% (54/54), done.\u001b[K\n",
            "remote: Compressing objects: 100% (51/51), done.\u001b[K\n",
            "remote: Total 54 (delta 23), reused 0 (delta 0), pack-reused 0\u001b[K\n",
            "Unpacking objects: 100% (54/54), done.\n",
            "Looking in indexes: https://pypi.org/simple, https://us-python.pkg.dev/colab-wheels/public/simple/\n",
            "Requirement already satisfied: kaggle in /usr/local/lib/python3.7/dist-packages (1.5.12)\n",
            "Requirement already satisfied: certifi in /usr/local/lib/python3.7/dist-packages (from kaggle) (2022.5.18.1)\n",
            "Requirement already satisfied: tqdm in /usr/local/lib/python3.7/dist-packages (from kaggle) (4.64.0)\n",
            "Requirement already satisfied: requests in /usr/local/lib/python3.7/dist-packages (from kaggle) (2.23.0)\n",
            "Requirement already satisfied: urllib3 in /usr/local/lib/python3.7/dist-packages (from kaggle) (1.24.3)\n",
            "Requirement already satisfied: python-dateutil in /usr/local/lib/python3.7/dist-packages (from kaggle) (2.8.2)\n",
            "Requirement already satisfied: six>=1.10 in /usr/local/lib/python3.7/dist-packages (from kaggle) (1.15.0)\n",
            "Requirement already satisfied: python-slugify in /usr/local/lib/python3.7/dist-packages (from kaggle) (6.1.2)\n",
            "Requirement already satisfied: text-unidecode>=1.3 in /usr/local/lib/python3.7/dist-packages (from python-slugify->kaggle) (1.3)\n",
            "Requirement already satisfied: idna<3,>=2.5 in /usr/local/lib/python3.7/dist-packages (from requests->kaggle) (2.10)\n",
            "Requirement already satisfied: chardet<4,>=3.0.2 in /usr/local/lib/python3.7/dist-packages (from requests->kaggle) (3.0.4)\n",
            "Downloading covidqu.zip to /content\n",
            " 99% 1.14G/1.15G [00:09<00:00, 170MB/s]\n",
            "100% 1.15G/1.15G [00:09<00:00, 128MB/s]\n"
          ]
        }
      ]
    },
    {
      "cell_type": "code",
      "source": [
        "!unzip \"/content/covidqu.zip\" -d \"/content/archive/\""
      ],
      "metadata": {
        "id": "BYpChgDck17h"
      },
      "execution_count": null,
      "outputs": []
    },
    {
      "cell_type": "code",
      "execution_count": 4,
      "metadata": {
        "id": "QVypgdMuFuld",
        "colab": {
          "base_uri": "https://localhost:8080/"
        },
        "outputId": "4838135e-2d6a-4780-bdc6-90b7e7db9ea3"
      },
      "outputs": [
        {
          "output_type": "stream",
          "name": "stdout",
          "text": [
            "'lung_covid/model/' -> './model'\n",
            "'lung_covid/model/__init__.py' -> './model/__init__.py'\n",
            "'lung_covid/model/__pycache__' -> './model/__pycache__'\n",
            "'lung_covid/model/__pycache__/__init__.cpython-36.pyc' -> './model/__pycache__/__init__.cpython-36.pyc'\n",
            "'lung_covid/model/__pycache__/__init__.cpython-37.pyc' -> './model/__pycache__/__init__.cpython-37.pyc'\n",
            "'lung_covid/model/__pycache__/__init__.cpython-39.pyc' -> './model/__pycache__/__init__.cpython-39.pyc'\n",
            "'lung_covid/model/__pycache__/unet.cpython-36.pyc' -> './model/__pycache__/unet.cpython-36.pyc'\n",
            "'lung_covid/model/__pycache__/unet.cpython-37.pyc' -> './model/__pycache__/unet.cpython-37.pyc'\n",
            "'lung_covid/model/__pycache__/unet.cpython-39.pyc' -> './model/__pycache__/unet.cpython-39.pyc'\n",
            "'lung_covid/model/__pycache__/unet_utils.cpython-36.pyc' -> './model/__pycache__/unet_utils.cpython-36.pyc'\n",
            "'lung_covid/model/__pycache__/unet_utils.cpython-37.pyc' -> './model/__pycache__/unet_utils.cpython-37.pyc'\n",
            "'lung_covid/model/__pycache__/unet_utils.cpython-39.pyc' -> './model/__pycache__/unet_utils.cpython-39.pyc'\n",
            "'lung_covid/model/unet.py' -> './model/unet.py'\n",
            "'lung_covid/model/unet_utils.py' -> './model/unet_utils.py'\n"
          ]
        }
      ],
      "source": [
        "# running  .ipynb scripts to call their functions\n",
        "%run lung_covid/functions.ipynb\n",
        "!cp -avr lung_covid/model/ .\n",
        "from model.unet import UNet, PretrainedUNet"
      ]
    },
    {
      "cell_type": "code",
      "source": [
        "!cd archive/Infection\\ Segmentation\\ Data/Infection\\ Segmentation\\ Data/Val/COVID-19/images/"
      ],
      "metadata": {
        "id": "NbvRjXXAp4y2"
      },
      "execution_count": 6,
      "outputs": []
    },
    {
      "cell_type": "code",
      "execution_count": 5,
      "metadata": {
        "id": "0huM4idKuXt2",
        "colab": {
          "base_uri": "https://localhost:8080/",
          "height": 86,
          "referenced_widgets": [
            "61a86b6c9a3f41b49c9d69649f8e300b",
            "ce71c9050bbe4dcba1b90d8377c29066",
            "c82e6d7b7bf547c299dc2c4ecf521e35",
            "62b5b79d4daf4404b3b3e44f022cbdf3",
            "011ffb9380824b7ba63db5431bdca11a",
            "dd95e90677874de0a5b8815e708866f5",
            "bccb56106a3049d5ad79961eb95139ef",
            "728bd34e4ece4b10994e98052c968ba4",
            "148f6287501b4d95a159041d9986fb83",
            "c5fed41b7324488aa7ee55982e1d1d34",
            "f31b3d171f964e6c8e9aa4fa81e32ae8"
          ]
        },
        "outputId": "637d399e-a5ef-4c20-b3e0-50cf4665d8a9"
      },
      "outputs": [
        {
          "output_type": "stream",
          "name": "stderr",
          "text": [
            "Downloading: \"https://download.pytorch.org/models/vgg11-8a719046.pth\" to /root/.cache/torch/hub/checkpoints/vgg11-8a719046.pth\n"
          ]
        },
        {
          "output_type": "display_data",
          "data": {
            "text/plain": [
              "  0%|          | 0.00/507M [00:00<?, ?B/s]"
            ],
            "application/vnd.jupyter.widget-view+json": {
              "version_major": 2,
              "version_minor": 0,
              "model_id": "61a86b6c9a3f41b49c9d69649f8e300b"
            }
          },
          "metadata": {}
        }
      ],
      "source": [
        "# The Calling the validaton dataset\n",
        "val=Lung_Dataset(split = \"Val\",class_folder='lung',shuffle=True,sample_size=300)# The length of the validation dataset to calculate the average value of the loss and accuracy\n",
        "# The size of the dataset for calculate average datas\n",
        "val_size=val.__len__()\n",
        "# The Train dataset \n",
        "tra=Lung_Dataset(split = \"Train\",class_folder='lung',shuffle=True,sample_size=2000)\n",
        "tra_size=tra.__len__()\n",
        "# # The transform functions to conver the PIL images to the tensors\n",
        "\n",
        "\n",
        "# The device looks for GPU if cannot find goes with CPU\n",
        "device=torch.device('cuda') if torch.cuda.is_available() else torch.device('cpu')\n",
        "# The model is called by this function from the model.py file \n",
        "net = PretrainedUNet( in_channels=1, out_channels=2,batch_norm=True).to(device)\n",
        "# The adam optimizer for optimization the values will be same for the other model training\n",
        "optimizer = optim.Adam(net.parameters(), lr= 0.0001)\n",
        "# The Loss function Cross entropy the value \n",
        "criterion = nn.CrossEntropyLoss()\n"
      ]
    },
    {
      "cell_type": "code",
      "execution_count": 6,
      "metadata": {
        "id": "Zual9umpPV3S"
      },
      "outputs": [],
      "source": [
        "batch_size=25\n",
        "# loading images and masks for mini batches\n",
        "data_loader = torch.utils.data.DataLoader(\n",
        "        tra, batch_size=batch_size,  num_workers=2, drop_last=True)\n",
        "\n",
        "data_loader_val = torch.utils.data.DataLoader(\n",
        "        val, batch_size=batch_size,  num_workers=2, drop_last=True)"
      ]
    },
    {
      "cell_type": "code",
      "execution_count": 12,
      "metadata": {
        "id": "3QY9Q8IaL2wA",
        "colab": {
          "base_uri": "https://localhost:8080/"
        },
        "outputId": "858883fb-593c-4d3e-f390-e9b2e79ffa0d"
      },
      "outputs": [
        {
          "output_type": "stream",
          "name": "stdout",
          "text": [
            "Tue Jun  7 20:02:36 2022       \n",
            "+-----------------------------------------------------------------------------+\n",
            "| NVIDIA-SMI 460.32.03    Driver Version: 460.32.03    CUDA Version: 11.2     |\n",
            "|-------------------------------+----------------------+----------------------+\n",
            "| GPU  Name        Persistence-M| Bus-Id        Disp.A | Volatile Uncorr. ECC |\n",
            "| Fan  Temp  Perf  Pwr:Usage/Cap|         Memory-Usage | GPU-Util  Compute M. |\n",
            "|                               |                      |               MIG M. |\n",
            "|===============================+======================+======================|\n",
            "|   0  Tesla P100-PCIE...  Off  | 00000000:00:04.0 Off |                    0 |\n",
            "| N/A   48C    P0    34W / 250W |  12501MiB / 16280MiB |      0%      Default |\n",
            "|                               |                      |                  N/A |\n",
            "+-------------------------------+----------------------+----------------------+\n",
            "                                                                               \n",
            "+-----------------------------------------------------------------------------+\n",
            "| Processes:                                                                  |\n",
            "|  GPU   GI   CI        PID   Type   Process name                  GPU Memory |\n",
            "|        ID   ID                                                   Usage      |\n",
            "|=============================================================================|\n",
            "+-----------------------------------------------------------------------------+\n"
          ]
        }
      ],
      "source": [
        "# The stiation of the GPU\n",
        "!nvidia-smi"
      ]
    },
    {
      "cell_type": "code",
      "execution_count": 8,
      "metadata": {
        "colab": {
          "base_uri": "https://localhost:8080/"
        },
        "id": "XbxMX9mIulgZ",
        "outputId": "6336105f-f0f4-41e1-c099-fe7e04490e10"
      },
      "outputs": [
        {
          "output_type": "stream",
          "name": "stdout",
          "text": [
            "Epoch : 1 / 20\n",
            "Validation Loss:v 0.272131326297919\n",
            "Validation Acc: 0.8575326949357986\n",
            "Train Acc: 0.7661662619560957\n",
            "Train  Loss   :t 0.3405302409082651\n",
            "Epoch : 2 / 20\n",
            "Validation Loss:v 0.2296734799941381\n",
            "Validation Acc: 0.97743488351504\n",
            "Train Acc: 0.968073658645153\n",
            "Train  Loss   :t 0.2496651103720069\n",
            "Epoch : 3 / 20\n",
            "Validation Loss:v 0.19572012374798456\n",
            "Validation Acc: 0.9810589055220286\n",
            "Train Acc: 0.9803807742893695\n",
            "Train  Loss   :t 0.21203921288251876\n",
            "Epoch : 4 / 20\n",
            "Validation Loss:v 0.17081461350123087\n",
            "Validation Acc: 0.9840637842814127\n",
            "Train Acc: 0.9837314628064633\n",
            "Train  Loss   :t 0.182558118365705\n",
            "Epoch : 5 / 20\n",
            "Validation Loss:v 0.15082715079188347\n",
            "Validation Acc: 0.9860510577758154\n",
            "Train Acc: 0.9857379756867886\n",
            "Train  Loss   :t 0.15809506569057702\n",
            "Epoch : 6 / 20\n",
            "Validation Loss:v 0.13241971284151077\n",
            "Validation Acc: 0.9863721032937368\n",
            "Train Acc: 0.9872229926288127\n",
            "Train  Loss   :t 0.13777037616819143\n",
            "Epoch : 7 / 20\n",
            "Validation Loss:v 0.11861125379800797\n",
            "Validation Acc: 0.9870437433322271\n",
            "Train Acc: 0.9881458535790444\n",
            "Train  Loss   :t 0.12100640153512358\n",
            "Epoch : 8 / 20\n",
            "Validation Loss:v 0.10840996230642001\n",
            "Validation Acc: 0.9867061128218969\n",
            "Train Acc: 0.9885812990367413\n",
            "Train  Loss   :t 0.10747794536873698\n",
            "Epoch : 9 / 20\n",
            "Validation Loss:v 0.0949206283936898\n",
            "Validation Acc: 0.9875687559445699\n",
            "Train Acc: 0.9888980396091938\n",
            "Train  Loss   :t 0.09602071680128574\n",
            "Epoch : 10 / 20\n",
            "Validation Loss:v 0.08693790932496388\n",
            "Validation Acc: 0.9872135668992996\n",
            "Train Acc: 0.9895482279360295\n",
            "Train  Loss   :t 0.08573988825082779\n",
            "Epoch : 11 / 20\n",
            "Validation Loss:v 0.07941882374385993\n",
            "Validation Acc: 0.9873574127753576\n",
            "Train Acc: 0.9903060592710972\n",
            "Train  Loss   :t 0.07670488143339753\n",
            "Epoch : 12 / 20\n",
            "Validation Loss:v 0.07362284635504086\n",
            "Validation Acc: 0.9878787597020467\n",
            "Train Acc: 0.9905059978365898\n",
            "Train  Loss   :t 0.0696160128340125\n",
            "Epoch : 13 / 20\n",
            "Validation Loss:v 0.06977936998009682\n",
            "Validation Acc: 0.9867896387974421\n",
            "Train Acc: 0.9908430859446525\n",
            "Train  Loss   :t 0.06252057179808616\n",
            "Epoch : 14 / 20\n",
            "Validation Loss:v 0.06176965373257796\n",
            "Validation Acc: 0.9882032970587412\n",
            "Train Acc: 0.9912125565111637\n",
            "Train  Loss   :t 0.056827480578795074\n",
            "Epoch : 15 / 20\n",
            "Validation Loss:v 0.05988549503187338\n",
            "Validation Acc: 0.9879761934280396\n",
            "Train Acc: 0.9908002831041813\n",
            "Train  Loss   :t 0.05314468224532902\n",
            "Epoch : 16 / 20\n",
            "Validation Loss:v 0.05432616174221039\n",
            "Validation Acc: 0.9884724467992783\n",
            "Train Acc: 0.990777350962162\n",
            "Train  Loss   :t 0.049558509467169644\n",
            "Epoch : 17 / 20\n",
            "Validation Loss:v 0.05242447120447954\n",
            "Validation Acc: 0.9884934922059377\n",
            "Train Acc: 0.9912866368889809\n",
            "Train  Loss   :t 0.04560720841400325\n",
            "Epoch : 18 / 20\n",
            "Validation Loss:v 0.05137805640697479\n",
            "Validation Acc: 0.9888338396946589\n",
            "Train Acc: 0.9926345176994801\n",
            "Train  Loss   :t 0.04052017875947058\n",
            "Epoch : 19 / 20\n",
            "Validation Loss:v 0.04797115890930096\n",
            "Validation Acc: 0.989051103591919\n",
            "Train Acc: 0.9932323917746544\n",
            "Train  Loss   :t 0.03701752782799304\n",
            "Epoch : 20 / 20\n",
            "Validation Loss:v 0.045660282795627914\n",
            "Validation Acc: 0.989064171910286\n",
            "Train Acc: 0.9930428765714169\n",
            "Train  Loss   :t 0.03511900990270078\n"
          ]
        }
      ],
      "source": [
        "# The number of the epoch \n",
        "epoch_number=20\n",
        "# list for the calculating validation Loss\n",
        "val_loss_array=[]\n",
        "# list for the calculating train Loss\n",
        "train_loss_array=[]\n",
        "# list for the calculating validation accuracy\n",
        "acc_val_array=[]\n",
        "# list for the calculating train accuracy\n",
        "acc_train_array=[]\n",
        "for t in range(epoch_number):\n",
        "    # reset the loss and the accuracy values each epoch \n",
        "    val_loss=0\n",
        "    train_loss=0\n",
        "    acc_val=0\n",
        "    acc_train=0\n",
        "    for batch_idx, sample in enumerate(data_loader):\n",
        "        # Train data preparing \n",
        "        imgs , true_masks = sample['image'],sample['mask']\n",
        "        imgs = imgs.to(device=device)\n",
        "        # The negative takes the masks and doubles the channels with inverse (0 to 1) shape  \n",
        "        true_masks=Negative_mask(true_masks,imgs.size(dim=0))\n",
        "        true_masks = true_masks.to(device=device)\n",
        "        net.train()\n",
        "        # zero the parameter gradients\n",
        "        optimizer.zero_grad()\n",
        "        \n",
        "\n",
        "        with torch.set_grad_enabled(True):\n",
        "            # Train data evaluation\n",
        "            masks_pred = net(imgs)\n",
        "            loss = criterion(masks_pred, true_masks)\n",
        "            train_loss += loss.item()\n",
        "            # Updating the params\n",
        "            loss.backward()\n",
        "            optimizer.step()\n",
        "            # Acc calc train\n",
        "            acc_train+=dice( masks_pred, true_masks)\n",
        "    for batch_idx, sample in enumerate(data_loader_val):\n",
        "        # Validation data preparing  and calling \n",
        "        # calcel gradient feature \n",
        "        net.eval()\n",
        "\n",
        "        # Call iamge and mask\n",
        "        imgs , true_masks = sample['image'],sample['mask']\n",
        "\n",
        "        imgs = imgs.to(device=device)\n",
        "        true_masks=Negative_mask(true_masks,imgs.size(dim=0))\n",
        "        true_masks = true_masks.to(device=device)\n",
        "\n",
        "        # zero the parameter gradients\n",
        "        optimizer.zero_grad()\n",
        "\n",
        "        with torch.set_grad_enabled(False):\n",
        "            # Validation evaluation \n",
        "            masks_pred = net(imgs)\n",
        "            masks_pred = masks_pred.to(device=device)\n",
        "            loss_val = criterion(masks_pred, true_masks)\n",
        "            acc_val +=dice( masks_pred, true_masks)\n",
        "            val_loss += loss_val.item()\n",
        "\n",
        "    batch_size\n",
        "    print('Epoch :',t+1,'/',str(epoch_number))\n",
        "    print('Validation Loss:v',(val_loss)/(val_size/batch_size))\n",
        "    print('Validation Acc:',(acc_val)/(val_size/batch_size))\n",
        "    print('Train Acc:',(acc_train)/(tra_size/batch_size))\n",
        "    print('Train  Loss   :t',(train_loss)/(tra_size/batch_size))\n",
        "    # Store epoch progress\n",
        "    val_loss_array.append((val_loss)/(val_size/batch_size))\n",
        "    train_loss_array.append((train_loss)/(tra_size/batch_size))\n",
        "    acc_val_array.append((acc_val)/(val_size/batch_size))\n",
        "    acc_train_array.append((acc_train)/(tra_size/batch_size))"
      ]
    },
    {
      "cell_type": "code",
      "execution_count": 10,
      "metadata": {
        "id": "jMMmS7Kk0wKB"
      },
      "outputs": [],
      "source": [
        "import copy\n",
        "# Save Model to the drive folder \n",
        "best_model_wts = copy.deepcopy(net.state_dict())\n",
        "torch.save({    \n",
        "    'epoch':epoch_number,\n",
        "    'model_state_dict':best_model_wts,\n",
        "    'optimizer_state_dict': optimizer.state_dict()\n",
        "     \n",
        "},os.path.join(os.getcwd(),'UNet_model_lung_pre_{}_epoch.pt'.format(epoch_number)))"
      ]
    },
    {
      "cell_type": "code",
      "execution_count": 11,
      "metadata": {
        "id": "KbymRfrq0v55"
      },
      "outputs": [],
      "source": [
        "# Save loss and acc information to the txt \n",
        "textfile = open(\"UNet_model_lung_pre_{}_epo.txt\".format(epoch_number), \"w\")\n",
        "# The form of the saved values are important when we used them to plot\n",
        "biglist=val_loss_array+   train_loss_array+    acc_val_array+    acc_train_array\n",
        "textfile. write(\"running_loss_array+   train_loss_array+    acc_val_array+    acc_train_array\"+ \"\\n\")\n",
        "for element in [biglist]:\n",
        "    textfile. write(str(element) + \"\\n\")\n",
        "textfile. close()\n"
      ]
    }
  ],
  "metadata": {
    "accelerator": "GPU",
    "colab": {
      "collapsed_sections": [],
      "name": "Unet_train_lung.ipynb",
      "provenance": [],
      "include_colab_link": true
    },
    "kernelspec": {
      "display_name": "Python 3",
      "name": "python3"
    },
    "language_info": {
      "name": "python"
    },
    "widgets": {
      "application/vnd.jupyter.widget-state+json": {
        "61a86b6c9a3f41b49c9d69649f8e300b": {
          "model_module": "@jupyter-widgets/controls",
          "model_name": "HBoxModel",
          "model_module_version": "1.5.0",
          "state": {
            "_dom_classes": [],
            "_model_module": "@jupyter-widgets/controls",
            "_model_module_version": "1.5.0",
            "_model_name": "HBoxModel",
            "_view_count": null,
            "_view_module": "@jupyter-widgets/controls",
            "_view_module_version": "1.5.0",
            "_view_name": "HBoxView",
            "box_style": "",
            "children": [
              "IPY_MODEL_ce71c9050bbe4dcba1b90d8377c29066",
              "IPY_MODEL_c82e6d7b7bf547c299dc2c4ecf521e35",
              "IPY_MODEL_62b5b79d4daf4404b3b3e44f022cbdf3"
            ],
            "layout": "IPY_MODEL_011ffb9380824b7ba63db5431bdca11a"
          }
        },
        "ce71c9050bbe4dcba1b90d8377c29066": {
          "model_module": "@jupyter-widgets/controls",
          "model_name": "HTMLModel",
          "model_module_version": "1.5.0",
          "state": {
            "_dom_classes": [],
            "_model_module": "@jupyter-widgets/controls",
            "_model_module_version": "1.5.0",
            "_model_name": "HTMLModel",
            "_view_count": null,
            "_view_module": "@jupyter-widgets/controls",
            "_view_module_version": "1.5.0",
            "_view_name": "HTMLView",
            "description": "",
            "description_tooltip": null,
            "layout": "IPY_MODEL_dd95e90677874de0a5b8815e708866f5",
            "placeholder": "​",
            "style": "IPY_MODEL_bccb56106a3049d5ad79961eb95139ef",
            "value": "100%"
          }
        },
        "c82e6d7b7bf547c299dc2c4ecf521e35": {
          "model_module": "@jupyter-widgets/controls",
          "model_name": "FloatProgressModel",
          "model_module_version": "1.5.0",
          "state": {
            "_dom_classes": [],
            "_model_module": "@jupyter-widgets/controls",
            "_model_module_version": "1.5.0",
            "_model_name": "FloatProgressModel",
            "_view_count": null,
            "_view_module": "@jupyter-widgets/controls",
            "_view_module_version": "1.5.0",
            "_view_name": "ProgressView",
            "bar_style": "success",
            "description": "",
            "description_tooltip": null,
            "layout": "IPY_MODEL_728bd34e4ece4b10994e98052c968ba4",
            "max": 531460341,
            "min": 0,
            "orientation": "horizontal",
            "style": "IPY_MODEL_148f6287501b4d95a159041d9986fb83",
            "value": 531460341
          }
        },
        "62b5b79d4daf4404b3b3e44f022cbdf3": {
          "model_module": "@jupyter-widgets/controls",
          "model_name": "HTMLModel",
          "model_module_version": "1.5.0",
          "state": {
            "_dom_classes": [],
            "_model_module": "@jupyter-widgets/controls",
            "_model_module_version": "1.5.0",
            "_model_name": "HTMLModel",
            "_view_count": null,
            "_view_module": "@jupyter-widgets/controls",
            "_view_module_version": "1.5.0",
            "_view_name": "HTMLView",
            "description": "",
            "description_tooltip": null,
            "layout": "IPY_MODEL_c5fed41b7324488aa7ee55982e1d1d34",
            "placeholder": "​",
            "style": "IPY_MODEL_f31b3d171f964e6c8e9aa4fa81e32ae8",
            "value": " 507M/507M [00:12&lt;00:00, 36.5MB/s]"
          }
        },
        "011ffb9380824b7ba63db5431bdca11a": {
          "model_module": "@jupyter-widgets/base",
          "model_name": "LayoutModel",
          "model_module_version": "1.2.0",
          "state": {
            "_model_module": "@jupyter-widgets/base",
            "_model_module_version": "1.2.0",
            "_model_name": "LayoutModel",
            "_view_count": null,
            "_view_module": "@jupyter-widgets/base",
            "_view_module_version": "1.2.0",
            "_view_name": "LayoutView",
            "align_content": null,
            "align_items": null,
            "align_self": null,
            "border": null,
            "bottom": null,
            "display": null,
            "flex": null,
            "flex_flow": null,
            "grid_area": null,
            "grid_auto_columns": null,
            "grid_auto_flow": null,
            "grid_auto_rows": null,
            "grid_column": null,
            "grid_gap": null,
            "grid_row": null,
            "grid_template_areas": null,
            "grid_template_columns": null,
            "grid_template_rows": null,
            "height": null,
            "justify_content": null,
            "justify_items": null,
            "left": null,
            "margin": null,
            "max_height": null,
            "max_width": null,
            "min_height": null,
            "min_width": null,
            "object_fit": null,
            "object_position": null,
            "order": null,
            "overflow": null,
            "overflow_x": null,
            "overflow_y": null,
            "padding": null,
            "right": null,
            "top": null,
            "visibility": null,
            "width": null
          }
        },
        "dd95e90677874de0a5b8815e708866f5": {
          "model_module": "@jupyter-widgets/base",
          "model_name": "LayoutModel",
          "model_module_version": "1.2.0",
          "state": {
            "_model_module": "@jupyter-widgets/base",
            "_model_module_version": "1.2.0",
            "_model_name": "LayoutModel",
            "_view_count": null,
            "_view_module": "@jupyter-widgets/base",
            "_view_module_version": "1.2.0",
            "_view_name": "LayoutView",
            "align_content": null,
            "align_items": null,
            "align_self": null,
            "border": null,
            "bottom": null,
            "display": null,
            "flex": null,
            "flex_flow": null,
            "grid_area": null,
            "grid_auto_columns": null,
            "grid_auto_flow": null,
            "grid_auto_rows": null,
            "grid_column": null,
            "grid_gap": null,
            "grid_row": null,
            "grid_template_areas": null,
            "grid_template_columns": null,
            "grid_template_rows": null,
            "height": null,
            "justify_content": null,
            "justify_items": null,
            "left": null,
            "margin": null,
            "max_height": null,
            "max_width": null,
            "min_height": null,
            "min_width": null,
            "object_fit": null,
            "object_position": null,
            "order": null,
            "overflow": null,
            "overflow_x": null,
            "overflow_y": null,
            "padding": null,
            "right": null,
            "top": null,
            "visibility": null,
            "width": null
          }
        },
        "bccb56106a3049d5ad79961eb95139ef": {
          "model_module": "@jupyter-widgets/controls",
          "model_name": "DescriptionStyleModel",
          "model_module_version": "1.5.0",
          "state": {
            "_model_module": "@jupyter-widgets/controls",
            "_model_module_version": "1.5.0",
            "_model_name": "DescriptionStyleModel",
            "_view_count": null,
            "_view_module": "@jupyter-widgets/base",
            "_view_module_version": "1.2.0",
            "_view_name": "StyleView",
            "description_width": ""
          }
        },
        "728bd34e4ece4b10994e98052c968ba4": {
          "model_module": "@jupyter-widgets/base",
          "model_name": "LayoutModel",
          "model_module_version": "1.2.0",
          "state": {
            "_model_module": "@jupyter-widgets/base",
            "_model_module_version": "1.2.0",
            "_model_name": "LayoutModel",
            "_view_count": null,
            "_view_module": "@jupyter-widgets/base",
            "_view_module_version": "1.2.0",
            "_view_name": "LayoutView",
            "align_content": null,
            "align_items": null,
            "align_self": null,
            "border": null,
            "bottom": null,
            "display": null,
            "flex": null,
            "flex_flow": null,
            "grid_area": null,
            "grid_auto_columns": null,
            "grid_auto_flow": null,
            "grid_auto_rows": null,
            "grid_column": null,
            "grid_gap": null,
            "grid_row": null,
            "grid_template_areas": null,
            "grid_template_columns": null,
            "grid_template_rows": null,
            "height": null,
            "justify_content": null,
            "justify_items": null,
            "left": null,
            "margin": null,
            "max_height": null,
            "max_width": null,
            "min_height": null,
            "min_width": null,
            "object_fit": null,
            "object_position": null,
            "order": null,
            "overflow": null,
            "overflow_x": null,
            "overflow_y": null,
            "padding": null,
            "right": null,
            "top": null,
            "visibility": null,
            "width": null
          }
        },
        "148f6287501b4d95a159041d9986fb83": {
          "model_module": "@jupyter-widgets/controls",
          "model_name": "ProgressStyleModel",
          "model_module_version": "1.5.0",
          "state": {
            "_model_module": "@jupyter-widgets/controls",
            "_model_module_version": "1.5.0",
            "_model_name": "ProgressStyleModel",
            "_view_count": null,
            "_view_module": "@jupyter-widgets/base",
            "_view_module_version": "1.2.0",
            "_view_name": "StyleView",
            "bar_color": null,
            "description_width": ""
          }
        },
        "c5fed41b7324488aa7ee55982e1d1d34": {
          "model_module": "@jupyter-widgets/base",
          "model_name": "LayoutModel",
          "model_module_version": "1.2.0",
          "state": {
            "_model_module": "@jupyter-widgets/base",
            "_model_module_version": "1.2.0",
            "_model_name": "LayoutModel",
            "_view_count": null,
            "_view_module": "@jupyter-widgets/base",
            "_view_module_version": "1.2.0",
            "_view_name": "LayoutView",
            "align_content": null,
            "align_items": null,
            "align_self": null,
            "border": null,
            "bottom": null,
            "display": null,
            "flex": null,
            "flex_flow": null,
            "grid_area": null,
            "grid_auto_columns": null,
            "grid_auto_flow": null,
            "grid_auto_rows": null,
            "grid_column": null,
            "grid_gap": null,
            "grid_row": null,
            "grid_template_areas": null,
            "grid_template_columns": null,
            "grid_template_rows": null,
            "height": null,
            "justify_content": null,
            "justify_items": null,
            "left": null,
            "margin": null,
            "max_height": null,
            "max_width": null,
            "min_height": null,
            "min_width": null,
            "object_fit": null,
            "object_position": null,
            "order": null,
            "overflow": null,
            "overflow_x": null,
            "overflow_y": null,
            "padding": null,
            "right": null,
            "top": null,
            "visibility": null,
            "width": null
          }
        },
        "f31b3d171f964e6c8e9aa4fa81e32ae8": {
          "model_module": "@jupyter-widgets/controls",
          "model_name": "DescriptionStyleModel",
          "model_module_version": "1.5.0",
          "state": {
            "_model_module": "@jupyter-widgets/controls",
            "_model_module_version": "1.5.0",
            "_model_name": "DescriptionStyleModel",
            "_view_count": null,
            "_view_module": "@jupyter-widgets/base",
            "_view_module_version": "1.2.0",
            "_view_name": "StyleView",
            "description_width": ""
          }
        }
      }
    }
  },
  "nbformat": 4,
  "nbformat_minor": 0
}