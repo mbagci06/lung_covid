{
  "nbformat": 4,
  "nbformat_minor": 0,
  "metadata": {
    "colab": {
      "name": "test_results.ipynb",
      "provenance": [],
      "collapsed_sections": [],
      "authorship_tag": "ABX9TyMHo1H7srRffDx8kwDwHJWL",
      "include_colab_link": true
    },
    "kernelspec": {
      "name": "python3",
      "display_name": "Python 3"
    },
    "language_info": {
      "name": "python"
    },
    "accelerator": "GPU"
  },
  "cells": [
    {
      "cell_type": "markdown",
      "metadata": {
        "id": "view-in-github",
        "colab_type": "text"
      },
      "source": [
        "<a href=\"https://colab.research.google.com/github/mbagci06/lung_covid/blob/main/test_results.ipynb\" target=\"_parent\"><img src=\"https://colab.research.google.com/assets/colab-badge.svg\" alt=\"Open In Colab\"/></a>"
      ]
    },
    {
      "cell_type": "code",
      "execution_count": 1,
      "metadata": {
        "id": "NYRz7_D-ULDT"
      },
      "outputs": [],
      "source": [
        "# BASICS \n",
        "import os\n",
        "import numpy as np\n",
        "import torch\n",
        "\n",
        "# MODEL and TRAIN\n",
        "import torchvision\n",
        "import torchvision.models\n",
        "import torchvision.transforms as transforms\n",
        "from torch.utils.data import DataLoader,Dataset\n",
        "import random\n",
        "from skimage import io\n",
        "import torch.nn as nn\n",
        "import torch.nn.functional as F\n",
        "from matplotlib import pyplot as plt\n",
        "from torch import optim\n",
        "from PIL import Image"
      ]
    },
    {
      "cell_type": "code",
      "source": [
        "! git clone https://github.com/mbagci06/lung_covid\n",
        "! pip install kaggle\n",
        "! mkdir ~/.kaggle\n",
        "! cp lung_covid/kaggle.json ~/.kaggle/\n",
        "! chmod 600 ~/.kaggle/kaggle.json\n",
        "! kaggle datasets download -d anasmohammedtahir/covidqu"
      ],
      "metadata": {
        "colab": {
          "base_uri": "https://localhost:8080/"
        },
        "id": "1Hq7e33yUTB6",
        "outputId": "5b81f2ee-33e9-4309-fab9-5e227197cf61"
      },
      "execution_count": 2,
      "outputs": [
        {
          "output_type": "stream",
          "name": "stdout",
          "text": [
            "Cloning into 'lung_covid'...\n",
            "remote: Enumerating objects: 142, done.\u001b[K\n",
            "remote: Counting objects: 100% (42/42), done.\u001b[K\n",
            "remote: Compressing objects: 100% (42/42), done.\u001b[K\n",
            "remote: Total 142 (delta 18), reused 0 (delta 0), pack-reused 100\u001b[K\n",
            "Receiving objects: 100% (142/142), 1.18 MiB | 7.74 MiB/s, done.\n",
            "Resolving deltas: 100% (66/66), done.\n",
            "Looking in indexes: https://pypi.org/simple, https://us-python.pkg.dev/colab-wheels/public/simple/\n",
            "Requirement already satisfied: kaggle in /usr/local/lib/python3.7/dist-packages (1.5.12)\n",
            "Requirement already satisfied: six>=1.10 in /usr/local/lib/python3.7/dist-packages (from kaggle) (1.15.0)\n",
            "Requirement already satisfied: certifi in /usr/local/lib/python3.7/dist-packages (from kaggle) (2022.5.18.1)\n",
            "Requirement already satisfied: requests in /usr/local/lib/python3.7/dist-packages (from kaggle) (2.23.0)\n",
            "Requirement already satisfied: python-slugify in /usr/local/lib/python3.7/dist-packages (from kaggle) (6.1.2)\n",
            "Requirement already satisfied: python-dateutil in /usr/local/lib/python3.7/dist-packages (from kaggle) (2.8.2)\n",
            "Requirement already satisfied: urllib3 in /usr/local/lib/python3.7/dist-packages (from kaggle) (1.24.3)\n",
            "Requirement already satisfied: tqdm in /usr/local/lib/python3.7/dist-packages (from kaggle) (4.64.0)\n",
            "Requirement already satisfied: text-unidecode>=1.3 in /usr/local/lib/python3.7/dist-packages (from python-slugify->kaggle) (1.3)\n",
            "Requirement already satisfied: idna<3,>=2.5 in /usr/local/lib/python3.7/dist-packages (from requests->kaggle) (2.10)\n",
            "Requirement already satisfied: chardet<4,>=3.0.2 in /usr/local/lib/python3.7/dist-packages (from requests->kaggle) (3.0.4)\n",
            "Downloading covidqu.zip to /content\n",
            "100% 1.15G/1.15G [00:11<00:00, 105MB/s] \n",
            "100% 1.15G/1.15G [00:11<00:00, 109MB/s]\n"
          ]
        }
      ]
    },
    {
      "cell_type": "code",
      "source": [
        "!unzip \"/content/covidqu.zip\" -d \"/content/archive/\" &> /dev/null"
      ],
      "metadata": {
        "id": "F59PHFaVUVPK"
      },
      "execution_count": 3,
      "outputs": []
    },
    {
      "cell_type": "code",
      "source": [
        "!pip install gdown"
      ],
      "metadata": {
        "colab": {
          "base_uri": "https://localhost:8080/"
        },
        "id": "fuasPqFdVJPE",
        "outputId": "355422be-8313-4921-8ff2-181477fa5835"
      },
      "execution_count": 4,
      "outputs": [
        {
          "output_type": "stream",
          "name": "stdout",
          "text": [
            "Looking in indexes: https://pypi.org/simple, https://us-python.pkg.dev/colab-wheels/public/simple/\n",
            "Requirement already satisfied: gdown in /usr/local/lib/python3.7/dist-packages (4.4.0)\n",
            "Requirement already satisfied: tqdm in /usr/local/lib/python3.7/dist-packages (from gdown) (4.64.0)\n",
            "Requirement already satisfied: requests[socks] in /usr/local/lib/python3.7/dist-packages (from gdown) (2.23.0)\n",
            "Requirement already satisfied: filelock in /usr/local/lib/python3.7/dist-packages (from gdown) (3.7.0)\n",
            "Requirement already satisfied: six in /usr/local/lib/python3.7/dist-packages (from gdown) (1.15.0)\n",
            "Requirement already satisfied: beautifulsoup4 in /usr/local/lib/python3.7/dist-packages (from gdown) (4.6.3)\n",
            "Requirement already satisfied: idna<3,>=2.5 in /usr/local/lib/python3.7/dist-packages (from requests[socks]->gdown) (2.10)\n",
            "Requirement already satisfied: certifi>=2017.4.17 in /usr/local/lib/python3.7/dist-packages (from requests[socks]->gdown) (2022.5.18.1)\n",
            "Requirement already satisfied: chardet<4,>=3.0.2 in /usr/local/lib/python3.7/dist-packages (from requests[socks]->gdown) (3.0.4)\n",
            "Requirement already satisfied: urllib3!=1.25.0,!=1.25.1,<1.26,>=1.21.1 in /usr/local/lib/python3.7/dist-packages (from requests[socks]->gdown) (1.24.3)\n",
            "Requirement already satisfied: PySocks!=1.5.7,>=1.5.6 in /usr/local/lib/python3.7/dist-packages (from requests[socks]->gdown) (1.7.1)\n"
          ]
        }
      ]
    },
    {
      "cell_type": "code",
      "source": [
        "!gdown --folder https://drive.google.com/drive/folders/1MIzhxSou4TRtQTcG3AADqLag28nj3FrV?usp=sharing"
      ],
      "metadata": {
        "colab": {
          "base_uri": "https://localhost:8080/"
        },
        "id": "G-gPGUGqVNXa",
        "outputId": "cac69b65-f692-4819-891c-9dfbe71a2628"
      },
      "execution_count": 5,
      "outputs": [
        {
          "output_type": "stream",
          "name": "stdout",
          "text": [
            "Retrieving folder list\n",
            "Processing file 1tcMX2dtdHO17cdE09bmRZDTg0zovvtUH deeplab_lung_30_epo.pth\n",
            "Processing file 1RM9kH2BAG7yq-L2larWPS23levRhgMRz deeplab_lung_30_epo.txt\n",
            "Processing file 18cQG7yKb3q-AVsJB8gszLKePB_x5PqnT deeplab_transfer_covid_60_epo.pth\n",
            "Processing file 1KWM07yB07IoKfoXBOZr7Y9xqmhX5WnqM deeplab_transfer_covid_60_epo.txt\n",
            "Processing file 1NdJZO_B3uoQ7pmEVS3ClGv0dL3FoTlS3 UNet_covid_50_epo.txt\n",
            "Processing file 1XBugwkZDCu85Nkd6P85_1Wtca98W7-hk UNet_covid_50_epoch.pt\n",
            "Processing file 1I8X5OfFqL6hhGMKcdm0FMSmJyn9ongr8 UNet_model_lung_pre_30_epo.txt\n",
            "Processing file 1mVDHpSxnoMnDn1o34gbQ5ISKmUgVX67O UNet_model_lung_pre_30_epoch.pt\n",
            "Processing file 1MYWXCbnlKgWOVzYH3mjCBWM0L2DAzNp9 UNet_transfer_covid_90_epo.txt\n",
            "Processing file 1-6sShM8RjJ1nqiU3dGPTZ3E904yqu1xa UNet_transfer_covid_90_epoch.pt\n",
            "Retrieving folder list completed\n",
            "Building directory structure\n",
            "Building directory structure completed\n",
            "Downloading...\n",
            "From: https://drive.google.com/uc?id=1tcMX2dtdHO17cdE09bmRZDTg0zovvtUH\n",
            "To: /content/ECE228_models_texts/deeplab_lung_30_epo.pth\n",
            "100% 713M/713M [00:03<00:00, 197MB/s]\n",
            "Downloading...\n",
            "From: https://drive.google.com/uc?id=1RM9kH2BAG7yq-L2larWPS23levRhgMRz\n",
            "To: /content/ECE228_models_texts/deeplab_lung_30_epo.txt\n",
            "100% 2.56k/2.56k [00:00<00:00, 6.52MB/s]\n",
            "Downloading...\n",
            "From: https://drive.google.com/uc?id=18cQG7yKb3q-AVsJB8gszLKePB_x5PqnT\n",
            "To: /content/ECE228_models_texts/deeplab_transfer_covid_60_epo.pth\n",
            "100% 373M/373M [00:02<00:00, 152MB/s]\n",
            "Downloading...\n",
            "From: https://drive.google.com/uc?id=1KWM07yB07IoKfoXBOZr7Y9xqmhX5WnqM\n",
            "To: /content/ECE228_models_texts/deeplab_transfer_covid_60_epo.txt\n",
            "100% 5.04k/5.04k [00:00<00:00, 9.34MB/s]\n",
            "Downloading...\n",
            "From: https://drive.google.com/uc?id=1NdJZO_B3uoQ7pmEVS3ClGv0dL3FoTlS3\n",
            "To: /content/ECE228_models_texts/UNet_covid_50_epo.txt\n",
            "100% 4.19k/4.19k [00:00<00:00, 10.3MB/s]\n",
            "Downloading...\n",
            "From: https://drive.google.com/uc?id=1XBugwkZDCu85Nkd6P85_1Wtca98W7-hk\n",
            "To: /content/ECE228_models_texts/UNet_covid_50_epoch.pt\n",
            "100% 728M/728M [00:06<00:00, 121MB/s]\n",
            "Downloading...\n",
            "From: https://drive.google.com/uc?id=1I8X5OfFqL6hhGMKcdm0FMSmJyn9ongr8\n",
            "To: /content/ECE228_models_texts/UNet_model_lung_pre_30_epo.txt\n",
            "100% 2.56k/2.56k [00:00<00:00, 7.78MB/s]\n",
            "Downloading...\n",
            "From: https://drive.google.com/uc?id=1mVDHpSxnoMnDn1o34gbQ5ISKmUgVX67O\n",
            "To: /content/ECE228_models_texts/UNet_model_lung_pre_30_epoch.pt\n",
            "100% 728M/728M [00:06<00:00, 116MB/s]\n",
            "Downloading...\n",
            "From: https://drive.google.com/uc?id=1MYWXCbnlKgWOVzYH3mjCBWM0L2DAzNp9\n",
            "To: /content/ECE228_models_texts/UNet_transfer_covid_90_epo.txt\n",
            "100% 7.48k/7.48k [00:00<00:00, 18.2MB/s]\n",
            "Downloading...\n",
            "From: https://drive.google.com/uc?id=1-6sShM8RjJ1nqiU3dGPTZ3E904yqu1xa\n",
            "To: /content/ECE228_models_texts/UNet_transfer_covid_90_epoch.pt\n",
            "100% 388M/388M [00:02<00:00, 193MB/s]\n",
            "Download completed\n"
          ]
        }
      ]
    },
    {
      "cell_type": "code",
      "source": [
        "%run lung_covid/functions.ipynb\n",
        "%run lung_covid/DeepLab.ipynb\n",
        "%run lung_covid/unet.ipynb"
      ],
      "metadata": {
        "id": "TSLo8zTPUXyL"
      },
      "execution_count": 6,
      "outputs": []
    },
    {
      "cell_type": "code",
      "source": [
        "# The device looks for GPU if cannot find goes with CPU\n",
        "device=torch.device('cuda') if torch.cuda.is_available() else torch.device('cpu')"
      ],
      "metadata": {
        "id": "GtgVHFhYVzVt"
      },
      "execution_count": 7,
      "outputs": []
    },
    {
      "cell_type": "code",
      "source": [
        "\n",
        "test_lung=Lung_Dataset_RGB(split = \"Test\",class_folder='lung',sample_size=25)\n",
        "tra_lung_size=test_lung.__len__()\n",
        "print(\"Number of the Lung test images are \",tra_lung_size)\n",
        "test_covid=Lung_Dataset_RGB(split = \"Test\",class_folder='covid',sample_size=25)\n",
        "tra_covid_size=test_covid.__len__()\n",
        "print(\"Number of the Covid test images are \",tra_covid_size)"
      ],
      "metadata": {
        "colab": {
          "base_uri": "https://localhost:8080/"
        },
        "id": "fj6B-Vj0UclO",
        "outputId": "10a6d0bb-7563-4366-e7c8-06b801809a24"
      },
      "execution_count": 8,
      "outputs": [
        {
          "output_type": "stream",
          "name": "stdout",
          "text": [
            "Number of the Lung test images are  6788\n",
            "Number of the Covid test images are  1166\n"
          ]
        }
      ]
    },
    {
      "cell_type": "code",
      "source": [
        "batch_size=12\n",
        "# loading images and masks for mini batches\n",
        "test_lung_loader = torch.utils.data.DataLoader(\n",
        "        test_lung, batch_size=batch_size,  num_workers=2, drop_last=True)\n",
        "\n",
        "test_covid_loader = torch.utils.data.DataLoader(\n",
        "        test_covid, batch_size=batch_size,  num_workers=2, drop_last=True)"
      ],
      "metadata": {
        "id": "5sQe5785ZVP2"
      },
      "execution_count": 9,
      "outputs": []
    },
    {
      "cell_type": "markdown",
      "source": [
        "- UNet_model_lung_pre_30_epoch.pt\n",
        "- UNet_transfer_covid_90_epoch.pt\n",
        "- deeplab_lung_30_epo.pth"
      ],
      "metadata": {
        "id": "5m__eoAzVUB1"
      }
    },
    {
      "cell_type": "code",
      "source": [
        "# Pretraned model Lung U-Net \n",
        "net_l = Unet_Res().to(device)\n",
        "checkpoint = torch.load('ECE228_models_texts/UNet_model_lung_pre_30_epoch.pt',map_location=torch.device(device=device))\n",
        "net_l.load_state_dict(checkpoint['model_state_dict'])\n",
        "net_l.eval()"
      ],
      "metadata": {
        "id": "fRzlAEXpU_qB"
      },
      "execution_count": null,
      "outputs": []
    },
    {
      "cell_type": "code",
      "source": [
        "# # Pretraned model covid U-Net \n",
        "# net_c = Unet_Res().to(device)\n",
        "# checkpoint = torch.load('ECE228_models_texts/'+file_name')\n",
        "# net_c.load_state_dict(checkpoint['model_state_dict'])"
      ],
      "metadata": {
        "id": "c1rkY_5FV4QO"
      },
      "execution_count": 11,
      "outputs": []
    },
    {
      "cell_type": "code",
      "source": [
        "# # Trabsfer learning Lung u-Net \n",
        "# net_tl = Unet_Res().to(device)\n",
        "# checkpoint = torch.load('ECE228_models_texts/'+file_name')\n",
        "# net_tl.load_state_dict(checkpoint['model_state_dict'])"
      ],
      "metadata": {
        "id": "hZTyH7JDV5_t"
      },
      "execution_count": 12,
      "outputs": []
    },
    {
      "cell_type": "code",
      "source": [
        "# Trabsfer learning Covid U-Net \n",
        "net_tc = Unet_Res().to(device)\n",
        "checkpoint = torch.load('ECE228_models_texts/UNet_transfer_covid_90_epoch.pt',map_location=torch.device(device=device))\n",
        "net_tc.load_state_dict(checkpoint['model_state_dict'])\n",
        "net_tc.eval()"
      ],
      "metadata": {
        "id": "1Y2iPZCNV6vB"
      },
      "execution_count": null,
      "outputs": []
    },
    {
      "cell_type": "code",
      "source": [
        "# Pretraned model Lung Deeplab\n",
        "deep_l = DeepLabv3_plus(nInputChannels=3, n_classes=2, os=8, pretrained=True).to(device=device)\n",
        "checkpoint = torch.load('ECE228_models_texts/deeplab_lung_30_epo.pth',map_location=torch.device(device=device))\n",
        "deep_l.load_state_dict(checkpoint['model_state_dict'])\n",
        "deep_l.eval()"
      ],
      "metadata": {
        "id": "mS5J2A6nWBAq"
      },
      "execution_count": null,
      "outputs": []
    },
    {
      "cell_type": "code",
      "source": [
        "!nvidia-smi"
      ],
      "metadata": {
        "colab": {
          "base_uri": "https://localhost:8080/"
        },
        "id": "dP5nWktSWA3c",
        "outputId": "67e1a4d2-6c21-47b5-90e3-090992c1b550"
      },
      "execution_count": 20,
      "outputs": [
        {
          "output_type": "stream",
          "name": "stdout",
          "text": [
            "Wed Jun  8 09:07:46 2022       \n",
            "+-----------------------------------------------------------------------------+\n",
            "| NVIDIA-SMI 460.32.03    Driver Version: 460.32.03    CUDA Version: 11.2     |\n",
            "|-------------------------------+----------------------+----------------------+\n",
            "| GPU  Name        Persistence-M| Bus-Id        Disp.A | Volatile Uncorr. ECC |\n",
            "| Fan  Temp  Perf  Pwr:Usage/Cap|         Memory-Usage | GPU-Util  Compute M. |\n",
            "|                               |                      |               MIG M. |\n",
            "|===============================+======================+======================|\n",
            "|   0  Tesla P100-PCIE...  Off  | 00000000:00:04.0 Off |                    0 |\n",
            "| N/A   60C    P0    43W / 250W |   4457MiB / 16280MiB |      0%      Default |\n",
            "|                               |                      |                  N/A |\n",
            "+-------------------------------+----------------------+----------------------+\n",
            "                                                                               \n",
            "+-----------------------------------------------------------------------------+\n",
            "| Processes:                                                                  |\n",
            "|  GPU   GI   CI        PID   Type   Process name                  GPU Memory |\n",
            "|        ID   ID                                                   Usage      |\n",
            "|=============================================================================|\n",
            "+-----------------------------------------------------------------------------+\n"
          ]
        }
      ]
    },
    {
      "cell_type": "code",
      "source": [
        "acc_bin=0\n",
        "acc_dice=0\n",
        "acc_iou=0\n",
        "for batch_idx, sample in enumerate(test_lung_loader):\n",
        "    # Validation data preparing  and calling \n",
        "\n",
        "    # Call iamge and mask\n",
        "    imgs , true_masks = sample['image'],sample['mask']\n",
        "\n",
        "    imgs = imgs.to(device=device)\n",
        "    true_masks=Negative_mask(true_masks,imgs.size(dim=0))\n",
        "    true_masks = true_masks.to(device=device)\n",
        "    # zero the parameter gradients\n",
        "\n",
        "    with torch.set_grad_enabled(False):\n",
        "        # Validation evaluation \n",
        "        masks_pred = net_l(imgs)\n",
        "\n",
        "        acc_dice += dice( masks_pred, true_masks)\n",
        "        acc_bin +=binary_acc( masks_pred, true_masks).item()\n",
        "        acc_iou += iou( masks_pred, true_masks)\n",
        "\n",
        "\n",
        "nomi=(tra_lung_size/batch_size)\n",
        "print('Lung Acc Bin:',(acc_bin)/(tra_lung_size/batch_size))\n",
        "print('Lung Acc Dice :',(acc_dice)/(tra_lung_size/batch_size))\n",
        "print('Lung Acc iou :',(acc_iou)/(tra_lung_size/batch_size))"
      ],
      "metadata": {
        "colab": {
          "base_uri": "https://localhost:8080/"
        },
        "id": "PP_5hrhjX9Sv",
        "outputId": "fa1505a7-5800-481b-be86-86a8c0e07df4"
      },
      "execution_count": 16,
      "outputs": [
        {
          "output_type": "stream",
          "name": "stdout",
          "text": [
            "Lung Acc Bin: 0.9855007819730391\n",
            "Lung Acc Dice : 0.9854472773034361\n",
            "Lung Acc iou : tensor(0.9725, device='cuda:0')\n"
          ]
        }
      ]
    },
    {
      "cell_type": "code",
      "source": [
        "acc_bin=0\n",
        "acc_dice=0\n",
        "acc_iou=0\n",
        "for batch_idx, sample in enumerate(test_lung_loader):\n",
        "    # Validation data preparing  and calling \n",
        "\n",
        "    # Call iamge and mask\n",
        "    imgs , true_masks = sample['image'],sample['mask']\n",
        "\n",
        "    imgs = imgs.to(device=device)\n",
        "    true_masks=Negative_mask(true_masks,imgs.size(dim=0))\n",
        "    true_masks = true_masks.to(device=device)\n",
        "    # zero the parameter gradients\n",
        "\n",
        "    with torch.set_grad_enabled(False):\n",
        "        # Validation evaluation \n",
        "        masks_pred = deep_l(imgs)\n",
        "\n",
        "        acc_dice += dice( masks_pred, true_masks)\n",
        "        acc_bin +=binary_acc( masks_pred, true_masks).item()\n",
        "        acc_iou += iou( masks_pred, true_masks)\n",
        "\n",
        "\n",
        "nomi=(tra_lung_size/batch_size)\n",
        "print('Lung Acc Bin:',(acc_bin)/(tra_lung_size/batch_size))\n",
        "print('Lung Acc Dice :',(acc_dice)/(tra_lung_size/batch_size))\n",
        "print('Lung Acc iou :',(acc_iou)/(tra_lung_size/batch_size))"
      ],
      "metadata": {
        "colab": {
          "base_uri": "https://localhost:8080/"
        },
        "id": "u1eE5rJPjjkF",
        "outputId": "5b4c54b5-cba9-4e67-c4a8-85377a9a7976"
      },
      "execution_count": 19,
      "outputs": [
        {
          "output_type": "stream",
          "name": "stderr",
          "text": [
            "/usr/local/lib/python3.7/dist-packages/torch/nn/functional.py:3704: UserWarning: nn.functional.upsample is deprecated. Use nn.functional.interpolate instead.\n",
            "  warnings.warn(\"nn.functional.upsample is deprecated. Use nn.functional.interpolate instead.\")\n"
          ]
        },
        {
          "output_type": "stream",
          "name": "stdout",
          "text": [
            "Lung Acc Bin: 0.9851749868834097\n",
            "Lung Acc Dice : 0.9851334514727506\n",
            "Lung Acc iou : tensor(0.9719, device='cuda:0')\n"
          ]
        }
      ]
    },
    {
      "cell_type": "code",
      "source": [
        "acc_bin=0\n",
        "acc_dice=0\n",
        "acc_iou=0\n",
        "for batch_idx, sample in enumerate(test_covid_loader):\n",
        "    # Validation data preparing  and calling \n",
        "\n",
        "    # Call iamge and mask\n",
        "    imgs , true_masks = sample['image'],sample['mask']\n",
        "\n",
        "    imgs = imgs.to(device=device)\n",
        "    true_masks=Negative_mask(true_masks,imgs.size(dim=0))\n",
        "    true_masks = true_masks.to(device=device)\n",
        "    # zero the parameter gradients\n",
        "\n",
        "    with torch.set_grad_enabled(False):\n",
        "        # Validation evaluation \n",
        "        masks_pred = net_tc(imgs)\n",
        "\n",
        "        acc_dice += dice( masks_pred, true_masks)\n",
        "        acc_bin +=binary_acc( masks_pred, true_masks).item()\n",
        "        acc_iou += iou( masks_pred, true_masks)\n",
        "\n",
        "\n",
        "nomi=(tra_covid_size/batch_size)\n",
        "print('covid transfer Acc Bin:',(acc_bin)/(tra_covid_size/batch_size))\n",
        "print('covid transfer Dice :',(acc_dice)/(tra_covid_size/batch_size))\n",
        "print('covid transfer iou :',(acc_iou)/(tra_covid_size/batch_size))"
      ],
      "metadata": {
        "colab": {
          "base_uri": "https://localhost:8080/"
        },
        "id": "4OERDHX2jFQT",
        "outputId": "30b981cd-6ed2-4791-fa86-40e81243c439"
      },
      "execution_count": 18,
      "outputs": [
        {
          "output_type": "stream",
          "name": "stdout",
          "text": [
            "covid transfer Acc Bin: 0.9733729847095024\n",
            "covid transfer Dice : 0.9732564961726219\n",
            "covid transfer iou : tensor(0.9506, device='cuda:0')\n"
          ]
        }
      ]
    }
  ]
}