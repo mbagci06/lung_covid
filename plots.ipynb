{
  "nbformat": 4,
  "nbformat_minor": 0,
  "metadata": {
    "colab": {
      "name": "plots_l_a.ipynb",
      "provenance": [],
      "collapsed_sections": [],
      "authorship_tag": "ABX9TyPX2UR4SlXhNvbXb1oeKHcH",
      "include_colab_link": true
    },
    "kernelspec": {
      "name": "python3",
      "display_name": "Python 3"
    },
    "language_info": {
      "name": "python"
    }
  },
  "cells": [
    {
      "cell_type": "markdown",
      "metadata": {
        "id": "view-in-github",
        "colab_type": "text"
      },
      "source": [
        "<a href=\"https://colab.research.google.com/github/mbagci06/lung_covid/blob/main/plots.ipynb\" target=\"_parent\"><img src=\"https://colab.research.google.com/assets/colab-badge.svg\" alt=\"Open In Colab\"/></a>"
      ]
    },
    {
      "cell_type": "code",
      "source": [
        "!pip install gdown"
      ],
      "metadata": {
        "colab": {
          "base_uri": "https://localhost:8080/"
        },
        "id": "5v5JIR4ZPnoi",
        "outputId": "29483252-966c-4f5e-f1f1-ada5c75dfac1"
      },
      "execution_count": 1,
      "outputs": [
        {
          "output_type": "stream",
          "name": "stdout",
          "text": [
            "Looking in indexes: https://pypi.org/simple, https://us-python.pkg.dev/colab-wheels/public/simple/\n",
            "Requirement already satisfied: gdown in /usr/local/lib/python3.7/dist-packages (4.4.0)\n",
            "Requirement already satisfied: six in /usr/local/lib/python3.7/dist-packages (from gdown) (1.15.0)\n",
            "Requirement already satisfied: tqdm in /usr/local/lib/python3.7/dist-packages (from gdown) (4.64.0)\n",
            "Requirement already satisfied: requests[socks] in /usr/local/lib/python3.7/dist-packages (from gdown) (2.23.0)\n",
            "Requirement already satisfied: filelock in /usr/local/lib/python3.7/dist-packages (from gdown) (3.7.0)\n",
            "Requirement already satisfied: beautifulsoup4 in /usr/local/lib/python3.7/dist-packages (from gdown) (4.6.3)\n",
            "Requirement already satisfied: chardet<4,>=3.0.2 in /usr/local/lib/python3.7/dist-packages (from requests[socks]->gdown) (3.0.4)\n",
            "Requirement already satisfied: urllib3!=1.25.0,!=1.25.1,<1.26,>=1.21.1 in /usr/local/lib/python3.7/dist-packages (from requests[socks]->gdown) (1.24.3)\n",
            "Requirement already satisfied: certifi>=2017.4.17 in /usr/local/lib/python3.7/dist-packages (from requests[socks]->gdown) (2022.5.18.1)\n",
            "Requirement already satisfied: idna<3,>=2.5 in /usr/local/lib/python3.7/dist-packages (from requests[socks]->gdown) (2.10)\n",
            "Requirement already satisfied: PySocks!=1.5.7,>=1.5.6 in /usr/local/lib/python3.7/dist-packages (from requests[socks]->gdown) (1.7.1)\n"
          ]
        }
      ]
    },
    {
      "cell_type": "code",
      "execution_count": 2,
      "metadata": {
        "colab": {
          "base_uri": "https://localhost:8080/"
        },
        "id": "67QVuSvJPNt_",
        "outputId": "34d069a2-785e-4b8a-9f2d-9e0002ead716"
      },
      "outputs": [
        {
          "output_type": "stream",
          "name": "stdout",
          "text": [
            "Retrieving folder list\n",
            "Processing file 1tcMX2dtdHO17cdE09bmRZDTg0zovvtUH deeplab_lung_30_epo.pth\n",
            "Processing file 1RM9kH2BAG7yq-L2larWPS23levRhgMRz deeplab_lung_30_epo.txt\n",
            "Processing file 1I8X5OfFqL6hhGMKcdm0FMSmJyn9ongr8 UNet_model_lung_pre_30_epo.txt\n",
            "Processing file 1mVDHpSxnoMnDn1o34gbQ5ISKmUgVX67O UNet_model_lung_pre_30_epoch.pt\n",
            "Processing file 1MYWXCbnlKgWOVzYH3mjCBWM0L2DAzNp9 UNet_transfer_covid_90_epo.txt\n",
            "Processing file 1-6sShM8RjJ1nqiU3dGPTZ3E904yqu1xa UNet_transfer_covid_90_epoch.pt\n",
            "Retrieving folder list completed\n",
            "Building directory structure\n",
            "Building directory structure completed\n",
            "Downloading...\n",
            "From: https://drive.google.com/uc?id=1tcMX2dtdHO17cdE09bmRZDTg0zovvtUH\n",
            "To: /content/ECE228_models_texts/deeplab_lung_30_epo.pth\n",
            "100% 713M/713M [00:03<00:00, 222MB/s]\n",
            "Downloading...\n",
            "From: https://drive.google.com/uc?id=1RM9kH2BAG7yq-L2larWPS23levRhgMRz\n",
            "To: /content/ECE228_models_texts/deeplab_lung_30_epo.txt\n",
            "100% 2.56k/2.56k [00:00<00:00, 7.29MB/s]\n",
            "Downloading...\n",
            "From: https://drive.google.com/uc?id=1I8X5OfFqL6hhGMKcdm0FMSmJyn9ongr8\n",
            "To: /content/ECE228_models_texts/UNet_model_lung_pre_30_epo.txt\n",
            "100% 2.56k/2.56k [00:00<00:00, 5.84MB/s]\n",
            "Downloading...\n",
            "From: https://drive.google.com/uc?id=1mVDHpSxnoMnDn1o34gbQ5ISKmUgVX67O\n",
            "To: /content/ECE228_models_texts/UNet_model_lung_pre_30_epoch.pt\n",
            "100% 728M/728M [00:02<00:00, 244MB/s]\n",
            "Downloading...\n",
            "From: https://drive.google.com/uc?id=1MYWXCbnlKgWOVzYH3mjCBWM0L2DAzNp9\n",
            "To: /content/ECE228_models_texts/UNet_transfer_covid_90_epo.txt\n",
            "100% 7.48k/7.48k [00:00<00:00, 6.18MB/s]\n",
            "Downloading...\n",
            "From: https://drive.google.com/uc?id=1-6sShM8RjJ1nqiU3dGPTZ3E904yqu1xa\n",
            "To: /content/ECE228_models_texts/UNet_transfer_covid_90_epoch.pt\n",
            "100% 388M/388M [00:01<00:00, 198MB/s]\n",
            "Download completed\n"
          ]
        }
      ],
      "source": [
        "!gdown --folder https://drive.google.com/drive/folders/1MIzhxSou4TRtQTcG3AADqLag28nj3FrV?usp=sharing"
      ]
    },
    {
      "cell_type": "code",
      "source": [
        "import numpy as np\n",
        "import matplotlib.pyplot as plt\n",
        "plt.rcParams['font.size'] = 22\n",
        "\n"
      ],
      "metadata": {
        "id": "2kAZ5AWoPnJl"
      },
      "execution_count": null,
      "outputs": []
    },
    {
      "cell_type": "code",
      "source": [
        "def loss_acc_reader(file_name):\n",
        "    \"\"\"reading the loss and accuracy values\n",
        "\n",
        "    :param file_name  : string : location of the values \n",
        "\n",
        "    :returns : the list of metrics in 4,-1 shape \n",
        "    :rtype   : list\n",
        "    \"\"\"\n",
        "    with open('ECE228_models_texts/'+file_name) as f:\n",
        "      lines = f.readlines()\n",
        "    data=lines[1].replace(',',\"\").replace('[','').replace(']','')\n",
        "    data_list=np.array((data.split(' ')))\n",
        "    data_deeplab_lung=np.float_(data_list.reshape(4,-1))\n",
        "    return data_deeplab_lung"
      ],
      "metadata": {
        "id": "ocGxkNOKQgj4"
      },
      "execution_count": null,
      "outputs": []
    },
    {
      "cell_type": "markdown",
      "source": [
        "- UNet_model_lung_pre_30_epo.txt\n",
        "- UNet_transfer_covid_90_epo.txt\n",
        "- deeplab_lung_30_epo.txt"
      ],
      "metadata": {
        "id": "vbfMOTwQSwBZ"
      }
    },
    {
      "cell_type": "code",
      "source": [
        "ul=loss_acc_reader('UNet_model_lung_pre_30_epo.txt')\n",
        "uc=\n",
        "utl=\n",
        "utc=loss_acc_reader('UNet_transfer_covid_90_epo.txt')\n",
        "dl=loss_acc_reader('deeplab_lung_30_epo.txt')\n",
        "dc=\n",
        "dtl=\n",
        "dtc="
      ],
      "metadata": {
        "id": "oynK6vvESvZI"
      },
      "execution_count": null,
      "outputs": []
    },
    {
      "cell_type": "code",
      "source": [
        ""
      ],
      "metadata": {
        "id": "08_CxAVWQOkV"
      },
      "execution_count": null,
      "outputs": []
    }
  ]
}