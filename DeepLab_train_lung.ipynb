{
  "nbformat": 4,
  "nbformat_minor": 0,
  "metadata": {
    "colab": {
      "name": "DeepLab_train.ipynb",
      "provenance": [],
      "collapsed_sections": [],
      "authorship_tag": "ABX9TyPdUoRzEOiTDv6dyt+/Lujp",
      "include_colab_link": true
    },
    "kernelspec": {
      "name": "python3",
      "display_name": "Python 3"
    },
    "language_info": {
      "name": "python"
    },
    "accelerator": "GPU",
    "widgets": {
      "application/vnd.jupyter.widget-state+json": {
        "6a333e671bbb4879afed38ccd02c7daf": {
          "model_module": "@jupyter-widgets/controls",
          "model_name": "HBoxModel",
          "model_module_version": "1.5.0",
          "state": {
            "_dom_classes": [],
            "_model_module": "@jupyter-widgets/controls",
            "_model_module_version": "1.5.0",
            "_model_name": "HBoxModel",
            "_view_count": null,
            "_view_module": "@jupyter-widgets/controls",
            "_view_module_version": "1.5.0",
            "_view_name": "HBoxView",
            "box_style": "",
            "children": [
              "IPY_MODEL_b9dfd1a275794f068a9bfede17719a39",
              "IPY_MODEL_efbd9cfa3e52412b94c331d1e855030b",
              "IPY_MODEL_1e8f8e72df374d4c864673dea730ae32"
            ],
            "layout": "IPY_MODEL_932c9779872442fe964d94c1ac363eb6"
          }
        },
        "b9dfd1a275794f068a9bfede17719a39": {
          "model_module": "@jupyter-widgets/controls",
          "model_name": "HTMLModel",
          "model_module_version": "1.5.0",
          "state": {
            "_dom_classes": [],
            "_model_module": "@jupyter-widgets/controls",
            "_model_module_version": "1.5.0",
            "_model_name": "HTMLModel",
            "_view_count": null,
            "_view_module": "@jupyter-widgets/controls",
            "_view_module_version": "1.5.0",
            "_view_name": "HTMLView",
            "description": "",
            "description_tooltip": null,
            "layout": "IPY_MODEL_3575371266c34ac0877b494ce44bc125",
            "placeholder": "​",
            "style": "IPY_MODEL_357894220832493db49b3bfe2a661b50",
            "value": "100%"
          }
        },
        "efbd9cfa3e52412b94c331d1e855030b": {
          "model_module": "@jupyter-widgets/controls",
          "model_name": "FloatProgressModel",
          "model_module_version": "1.5.0",
          "state": {
            "_dom_classes": [],
            "_model_module": "@jupyter-widgets/controls",
            "_model_module_version": "1.5.0",
            "_model_name": "FloatProgressModel",
            "_view_count": null,
            "_view_module": "@jupyter-widgets/controls",
            "_view_module_version": "1.5.0",
            "_view_name": "ProgressView",
            "bar_style": "success",
            "description": "",
            "description_tooltip": null,
            "layout": "IPY_MODEL_c3cc773514364b08b8611f1903f00b14",
            "max": 178728960,
            "min": 0,
            "orientation": "horizontal",
            "style": "IPY_MODEL_a3be6eee69f94d029a4348a8ba6b9c52",
            "value": 178728960
          }
        },
        "1e8f8e72df374d4c864673dea730ae32": {
          "model_module": "@jupyter-widgets/controls",
          "model_name": "HTMLModel",
          "model_module_version": "1.5.0",
          "state": {
            "_dom_classes": [],
            "_model_module": "@jupyter-widgets/controls",
            "_model_module_version": "1.5.0",
            "_model_name": "HTMLModel",
            "_view_count": null,
            "_view_module": "@jupyter-widgets/controls",
            "_view_module_version": "1.5.0",
            "_view_name": "HTMLView",
            "description": "",
            "description_tooltip": null,
            "layout": "IPY_MODEL_54664e8e47504ad99ba5a6872afa8e5a",
            "placeholder": "​",
            "style": "IPY_MODEL_193c9c2857364f3db00d8b363726c45a",
            "value": " 170M/170M [00:01&lt;00:00, 167MB/s]"
          }
        },
        "932c9779872442fe964d94c1ac363eb6": {
          "model_module": "@jupyter-widgets/base",
          "model_name": "LayoutModel",
          "model_module_version": "1.2.0",
          "state": {
            "_model_module": "@jupyter-widgets/base",
            "_model_module_version": "1.2.0",
            "_model_name": "LayoutModel",
            "_view_count": null,
            "_view_module": "@jupyter-widgets/base",
            "_view_module_version": "1.2.0",
            "_view_name": "LayoutView",
            "align_content": null,
            "align_items": null,
            "align_self": null,
            "border": null,
            "bottom": null,
            "display": null,
            "flex": null,
            "flex_flow": null,
            "grid_area": null,
            "grid_auto_columns": null,
            "grid_auto_flow": null,
            "grid_auto_rows": null,
            "grid_column": null,
            "grid_gap": null,
            "grid_row": null,
            "grid_template_areas": null,
            "grid_template_columns": null,
            "grid_template_rows": null,
            "height": null,
            "justify_content": null,
            "justify_items": null,
            "left": null,
            "margin": null,
            "max_height": null,
            "max_width": null,
            "min_height": null,
            "min_width": null,
            "object_fit": null,
            "object_position": null,
            "order": null,
            "overflow": null,
            "overflow_x": null,
            "overflow_y": null,
            "padding": null,
            "right": null,
            "top": null,
            "visibility": null,
            "width": null
          }
        },
        "3575371266c34ac0877b494ce44bc125": {
          "model_module": "@jupyter-widgets/base",
          "model_name": "LayoutModel",
          "model_module_version": "1.2.0",
          "state": {
            "_model_module": "@jupyter-widgets/base",
            "_model_module_version": "1.2.0",
            "_model_name": "LayoutModel",
            "_view_count": null,
            "_view_module": "@jupyter-widgets/base",
            "_view_module_version": "1.2.0",
            "_view_name": "LayoutView",
            "align_content": null,
            "align_items": null,
            "align_self": null,
            "border": null,
            "bottom": null,
            "display": null,
            "flex": null,
            "flex_flow": null,
            "grid_area": null,
            "grid_auto_columns": null,
            "grid_auto_flow": null,
            "grid_auto_rows": null,
            "grid_column": null,
            "grid_gap": null,
            "grid_row": null,
            "grid_template_areas": null,
            "grid_template_columns": null,
            "grid_template_rows": null,
            "height": null,
            "justify_content": null,
            "justify_items": null,
            "left": null,
            "margin": null,
            "max_height": null,
            "max_width": null,
            "min_height": null,
            "min_width": null,
            "object_fit": null,
            "object_position": null,
            "order": null,
            "overflow": null,
            "overflow_x": null,
            "overflow_y": null,
            "padding": null,
            "right": null,
            "top": null,
            "visibility": null,
            "width": null
          }
        },
        "357894220832493db49b3bfe2a661b50": {
          "model_module": "@jupyter-widgets/controls",
          "model_name": "DescriptionStyleModel",
          "model_module_version": "1.5.0",
          "state": {
            "_model_module": "@jupyter-widgets/controls",
            "_model_module_version": "1.5.0",
            "_model_name": "DescriptionStyleModel",
            "_view_count": null,
            "_view_module": "@jupyter-widgets/base",
            "_view_module_version": "1.2.0",
            "_view_name": "StyleView",
            "description_width": ""
          }
        },
        "c3cc773514364b08b8611f1903f00b14": {
          "model_module": "@jupyter-widgets/base",
          "model_name": "LayoutModel",
          "model_module_version": "1.2.0",
          "state": {
            "_model_module": "@jupyter-widgets/base",
            "_model_module_version": "1.2.0",
            "_model_name": "LayoutModel",
            "_view_count": null,
            "_view_module": "@jupyter-widgets/base",
            "_view_module_version": "1.2.0",
            "_view_name": "LayoutView",
            "align_content": null,
            "align_items": null,
            "align_self": null,
            "border": null,
            "bottom": null,
            "display": null,
            "flex": null,
            "flex_flow": null,
            "grid_area": null,
            "grid_auto_columns": null,
            "grid_auto_flow": null,
            "grid_auto_rows": null,
            "grid_column": null,
            "grid_gap": null,
            "grid_row": null,
            "grid_template_areas": null,
            "grid_template_columns": null,
            "grid_template_rows": null,
            "height": null,
            "justify_content": null,
            "justify_items": null,
            "left": null,
            "margin": null,
            "max_height": null,
            "max_width": null,
            "min_height": null,
            "min_width": null,
            "object_fit": null,
            "object_position": null,
            "order": null,
            "overflow": null,
            "overflow_x": null,
            "overflow_y": null,
            "padding": null,
            "right": null,
            "top": null,
            "visibility": null,
            "width": null
          }
        },
        "a3be6eee69f94d029a4348a8ba6b9c52": {
          "model_module": "@jupyter-widgets/controls",
          "model_name": "ProgressStyleModel",
          "model_module_version": "1.5.0",
          "state": {
            "_model_module": "@jupyter-widgets/controls",
            "_model_module_version": "1.5.0",
            "_model_name": "ProgressStyleModel",
            "_view_count": null,
            "_view_module": "@jupyter-widgets/base",
            "_view_module_version": "1.2.0",
            "_view_name": "StyleView",
            "bar_color": null,
            "description_width": ""
          }
        },
        "54664e8e47504ad99ba5a6872afa8e5a": {
          "model_module": "@jupyter-widgets/base",
          "model_name": "LayoutModel",
          "model_module_version": "1.2.0",
          "state": {
            "_model_module": "@jupyter-widgets/base",
            "_model_module_version": "1.2.0",
            "_model_name": "LayoutModel",
            "_view_count": null,
            "_view_module": "@jupyter-widgets/base",
            "_view_module_version": "1.2.0",
            "_view_name": "LayoutView",
            "align_content": null,
            "align_items": null,
            "align_self": null,
            "border": null,
            "bottom": null,
            "display": null,
            "flex": null,
            "flex_flow": null,
            "grid_area": null,
            "grid_auto_columns": null,
            "grid_auto_flow": null,
            "grid_auto_rows": null,
            "grid_column": null,
            "grid_gap": null,
            "grid_row": null,
            "grid_template_areas": null,
            "grid_template_columns": null,
            "grid_template_rows": null,
            "height": null,
            "justify_content": null,
            "justify_items": null,
            "left": null,
            "margin": null,
            "max_height": null,
            "max_width": null,
            "min_height": null,
            "min_width": null,
            "object_fit": null,
            "object_position": null,
            "order": null,
            "overflow": null,
            "overflow_x": null,
            "overflow_y": null,
            "padding": null,
            "right": null,
            "top": null,
            "visibility": null,
            "width": null
          }
        },
        "193c9c2857364f3db00d8b363726c45a": {
          "model_module": "@jupyter-widgets/controls",
          "model_name": "DescriptionStyleModel",
          "model_module_version": "1.5.0",
          "state": {
            "_model_module": "@jupyter-widgets/controls",
            "_model_module_version": "1.5.0",
            "_model_name": "DescriptionStyleModel",
            "_view_count": null,
            "_view_module": "@jupyter-widgets/base",
            "_view_module_version": "1.2.0",
            "_view_name": "StyleView",
            "description_width": ""
          }
        }
      }
    }
  },
  "cells": [
    {
      "cell_type": "markdown",
      "metadata": {
        "id": "view-in-github",
        "colab_type": "text"
      },
      "source": [
        "<a href=\"https://colab.research.google.com/github/mbagci06/lung_covid/blob/main/DeepLab_train_lung.ipynb\" target=\"_parent\"><img src=\"https://colab.research.google.com/assets/colab-badge.svg\" alt=\"Open In Colab\"/></a>"
      ]
    },
    {
      "cell_type": "code",
      "execution_count": null,
      "metadata": {
        "colab": {
          "base_uri": "https://localhost:8080/"
        },
        "id": "M0cTRbteyBLD",
        "outputId": "7a00d291-e82c-4ae8-d8e9-447d12028895"
      },
      "outputs": [
        {
          "output_type": "stream",
          "name": "stdout",
          "text": [
            "Mounted at /content/drive\n"
          ]
        }
      ],
      "source": [
        "# BASICS \n",
        "import os\n",
        "import numpy as np\n",
        "import torch\n",
        "\n",
        "# Colab \n",
        "from pydrive.drive import GoogleDrive\n",
        "from google.colab import drive\n",
        "from google.colab import files\n",
        "from pydrive.auth import GoogleAuth\n",
        "from google.colab import auth\n",
        "import torchvision.transforms as transforms\n",
        "from oauth2client.client import GoogleCredentials\n",
        "drive.mount('/content/drive')\n",
        "auth.authenticate_user()\n",
        "gauth = GoogleAuth()\n",
        "gauth.credentials = GoogleCredentials.get_application_default()\n",
        "drive = GoogleDrive(gauth)\n",
        "# MODEL and TRAIN\n",
        "import torchvision\n",
        "import torchvision.models\n",
        "from torch.utils.data import DataLoader,Dataset\n",
        "import random\n",
        "from skimage import io\n",
        "import torch.nn as nn\n",
        "import torch.nn.functional as F\n",
        "from matplotlib import pyplot as plt\n",
        "from torch import optim\n",
        "from PIL import Image"
      ]
    },
    {
      "cell_type": "code",
      "source": [
        "# the functions have called with network of the deeplab \n",
        "!cp /content/drive/Shareddrives/FurkanDataandModels/Furkan_covid/codes/functions.ipynb  /content\n",
        "!cp -R /content/drive/Shareddrives/FurkanDataandModels/Furkan_covid/codes/networks /content"
      ],
      "metadata": {
        "id": "BCAG3N-hyGfY"
      },
      "execution_count": null,
      "outputs": []
    },
    {
      "cell_type": "code",
      "source": [
        "# Run the function code to call the funcctions in it\n",
        "%run functions.ipynb\n",
        "# Call the library of the network with the deeplab versions\n",
        "from networks import deeplab_xception, deeplab_resnet"
      ],
      "metadata": {
        "colab": {
          "base_uri": "https://localhost:8080/"
        },
        "id": "q2dcCq9hyJWa",
        "outputId": "40a30158-da22-4c0e-b05c-6dfab69f6d83"
      },
      "execution_count": null,
      "outputs": [
        {
          "output_type": "stream",
          "name": "stdout",
          "text": [
            "Drive already mounted at /content/drive; to attempt to forcibly remount, call drive.mount(\"/content/drive\", force_remount=True).\n"
          ]
        }
      ]
    },
    {
      "cell_type": "code",
      "source": [
        "# The Calling the validaton dataset\n",
        "val=Lung_Dataset_deeplab(split = \"Val\",class_folder='lung',shuffle=True,sample_size=300)# The length of the validation dataset to calculate the average value of the loss and accuracy\n",
        "\n",
        "val_size=val.__len__()\n",
        "# The Train dataset \n",
        "tra=Lung_Dataset_deeplab(split = \"Train\",class_folder='lung',shuffle=True,sample_size=2000)\n",
        "tra_size=tra.__len__()\n",
        "\n",
        "# Call cuda, if there is no GPU use CPU\n",
        "device=torch.device('cuda') if torch.cuda.is_available() else torch.device('cpu')\n",
        "\n",
        "# The input channel determined already because model is pretrained \n",
        "net = deeplab_resnet.DeepLabv3_plus(nInputChannels=3, n_classes=2, os=8, pretrained=True).to(device=device)\n",
        "# The adam optimizer for optimization the values will be same for the other model training\n",
        "optimizer = optim.Adam(net.parameters(), lr= 0.0001)\n",
        "# The Loss function Cross entropy the value \n",
        "# BCE logistic do not need to normalization to 0 1 \n",
        "criterion = nn.CrossEntropyLoss()"
      ],
      "metadata": {
        "colab": {
          "base_uri": "https://localhost:8080/",
          "height": 136,
          "referenced_widgets": [
            "6a333e671bbb4879afed38ccd02c7daf",
            "b9dfd1a275794f068a9bfede17719a39",
            "efbd9cfa3e52412b94c331d1e855030b",
            "1e8f8e72df374d4c864673dea730ae32",
            "932c9779872442fe964d94c1ac363eb6",
            "3575371266c34ac0877b494ce44bc125",
            "357894220832493db49b3bfe2a661b50",
            "c3cc773514364b08b8611f1903f00b14",
            "a3be6eee69f94d029a4348a8ba6b9c52",
            "54664e8e47504ad99ba5a6872afa8e5a",
            "193c9c2857364f3db00d8b363726c45a"
          ]
        },
        "id": "0JmuXiBWy6kh",
        "outputId": "a602db35-94a7-4b30-f908-31376475b869"
      },
      "execution_count": null,
      "outputs": [
        {
          "output_type": "stream",
          "name": "stdout",
          "text": [
            "Constructing DeepLabv3+ model...\n",
            "Number of classes: 2\n",
            "Output stride: 8\n",
            "Number of Input Channels: 3\n"
          ]
        },
        {
          "output_type": "stream",
          "name": "stderr",
          "text": [
            "Downloading: \"https://download.pytorch.org/models/resnet101-5d3b4d8f.pth\" to /root/.cache/torch/hub/checkpoints/resnet101-5d3b4d8f.pth\n"
          ]
        },
        {
          "output_type": "display_data",
          "data": {
            "text/plain": [
              "  0%|          | 0.00/170M [00:00<?, ?B/s]"
            ],
            "application/vnd.jupyter.widget-view+json": {
              "version_major": 2,
              "version_minor": 0,
              "model_id": "6a333e671bbb4879afed38ccd02c7daf"
            }
          },
          "metadata": {}
        }
      ]
    },
    {
      "cell_type": "code",
      "source": [
        "batch_size=25\n",
        "# loading images and masks for mini epochs \n",
        "data_loader = torch.utils.data.DataLoader(\n",
        "        tra, batch_size=batch_size,  num_workers=2, drop_last=True)\n",
        "\n",
        "data_loader_val = torch.utils.data.DataLoader(\n",
        "        val, batch_size=batch_size,  num_workers=2, drop_last=True)"
      ],
      "metadata": {
        "id": "GmEmfXgXzXeQ"
      },
      "execution_count": null,
      "outputs": []
    },
    {
      "cell_type": "code",
      "source": [
        "!nvidia-smi"
      ],
      "metadata": {
        "colab": {
          "base_uri": "https://localhost:8080/"
        },
        "id": "pXvmKV6gze0d",
        "outputId": "e844bc83-1ad7-45fa-e2ce-d5a546d5910c"
      },
      "execution_count": null,
      "outputs": [
        {
          "output_type": "stream",
          "name": "stdout",
          "text": [
            "Mon May 30 04:59:50 2022       \n",
            "+-----------------------------------------------------------------------------+\n",
            "| NVIDIA-SMI 460.32.03    Driver Version: 460.32.03    CUDA Version: 11.2     |\n",
            "|-------------------------------+----------------------+----------------------+\n",
            "| GPU  Name        Persistence-M| Bus-Id        Disp.A | Volatile Uncorr. ECC |\n",
            "| Fan  Temp  Perf  Pwr:Usage/Cap|         Memory-Usage | GPU-Util  Compute M. |\n",
            "|                               |                      |               MIG M. |\n",
            "|===============================+======================+======================|\n",
            "|   0  Tesla P100-PCIE...  Off  | 00000000:00:04.0 Off |                    0 |\n",
            "| N/A   38C    P0    34W / 250W |   1173MiB / 16280MiB |      5%      Default |\n",
            "|                               |                      |                  N/A |\n",
            "+-------------------------------+----------------------+----------------------+\n",
            "                                                                               \n",
            "+-----------------------------------------------------------------------------+\n",
            "| Processes:                                                                  |\n",
            "|  GPU   GI   CI        PID   Type   Process name                  GPU Memory |\n",
            "|        ID   ID                                                   Usage      |\n",
            "|=============================================================================|\n",
            "+-----------------------------------------------------------------------------+\n"
          ]
        }
      ]
    },
    {
      "cell_type": "code",
      "source": [
        "# The number of the epoch \n",
        "epoch_number=20\n",
        "# list for the calculating validation Loss\n",
        "val_loss_array=[]\n",
        "# list for the calculating train Loss\n",
        "train_loss_array=[]\n",
        "# list for the calculating validation accuracy\n",
        "acc_val_array=[]\n",
        "# list for the calculating train accuracy\n",
        "acc_train_array=[]\n",
        "for t in range(epoch_number):\n",
        "    # reset the loss and the accuracy values each epoch \n",
        "    val_loss=0\n",
        "    train_loss=0\n",
        "    acc_val=0\n",
        "    acc_train=0\n",
        "    for batch_idx, sample in enumerate(data_loader):\n",
        "        # Train data preparing \n",
        "        imgs , true_masks = sample['image'],sample['mask']\n",
        "        imgs = imgs.to(device=device)\n",
        "        true_masks=Negative_mask(true_masks,imgs.size(dim=0))\n",
        "        true_masks = true_masks.to(device=device)\n",
        "        net.train()\n",
        "        # zero the parameter gradients\n",
        "        optimizer.zero_grad()\n",
        "        \n",
        "\n",
        "        with torch.set_grad_enabled(True):\n",
        "            # Train data evaluation\n",
        "            masks_pred = net(imgs)\n",
        "            loss = criterion(masks_pred, true_masks)\n",
        "            train_loss += loss.item()\n",
        "            # Updating the params\n",
        "            loss.backward()\n",
        "            optimizer.step()\n",
        "            # Acc calc train\n",
        "            acc_train+=dice( masks_pred, true_masks)\n",
        "    for batch_idx, sample in enumerate(data_loader_val):\n",
        "        # Validation data preparing  and calling \n",
        "        # calcel gradient feature \n",
        "        net.eval()\n",
        "\n",
        "        # Call iamge and mask\n",
        "        imgs , true_masks = sample['image'],sample['mask']\n",
        "\n",
        "        imgs = imgs.to(device=device)\n",
        "        true_masks=Negative_mask(true_masks,imgs.size(dim=0))\n",
        "        true_masks = true_masks.to(device=device)\n",
        "\n",
        "        # zero the parameter gradients\n",
        "        optimizer.zero_grad()\n",
        "\n",
        "        with torch.set_grad_enabled(False):\n",
        "            # Validation evaluation \n",
        "            masks_pred = net(imgs)\n",
        "            masks_pred = masks_pred.to(device=device)\n",
        "            loss_val = criterion(masks_pred, true_masks)\n",
        "            acc_val +=dice( masks_pred, true_masks)\n",
        "            val_loss += loss_val.item()\n",
        "\n",
        "    batch_size\n",
        "    print('Epoch :',t+1,'/',str(epoch_number))\n",
        "    print('Validation Loss:v',(val_loss)/(val_size/batch_size))\n",
        "    print('Validation Acc:',(acc_val)/(val_size/batch_size))\n",
        "    print('Train Acc:',(acc_train)/(tra_size/batch_size))\n",
        "    print('Train  Loss   :t',(train_loss)/(tra_size/batch_size))\n",
        "    # Store epoch progress\n",
        "    val_loss_array.append((val_loss)/(val_size/batch_size))\n",
        "    train_loss_array.append((train_loss)/(tra_size/batch_size))\n",
        "    acc_val_array.append((acc_val)/(val_size/batch_size))\n",
        "    acc_train_array.append((acc_train)/(tra_size/batch_size))"
      ],
      "metadata": {
        "colab": {
          "base_uri": "https://localhost:8080/"
        },
        "id": "6T-JqLXaziYU",
        "outputId": "13a6cadc-94d3-4f1b-bd62-f8c911fc53d6"
      },
      "execution_count": null,
      "outputs": [
        {
          "metadata": {
            "tags": null
          },
          "name": "stderr",
          "output_type": "stream",
          "text": [
            "/usr/local/lib/python3.7/dist-packages/torch/nn/functional.py:3704: UserWarning: nn.functional.upsample is deprecated. Use nn.functional.interpolate instead.\n",
            "  warnings.warn(\"nn.functional.upsample is deprecated. Use nn.functional.interpolate instead.\")\n"
          ]
        },
        {
          "output_type": "stream",
          "name": "stdout",
          "text": [
            "Epoch : 1 / 20\n",
            "Validation Loss:v 0.06251861775914828\n",
            "Validation Acc: 0.9794907520214716\n",
            "Train Acc: 0.9257164613809437\n",
            "Train  Loss   :t 0.13277385546825826\n",
            "Epoch : 2 / 20\n",
            "Validation Loss:v 0.04401507445921501\n",
            "Validation Acc: 0.9834581166505814\n",
            "Train Acc: 0.9832557335495948\n",
            "Train  Loss   :t 0.04838066534139216\n",
            "Epoch : 3 / 20\n",
            "Validation Loss:v 0.03597574168816209\n",
            "Validation Acc: 0.9856001188357671\n",
            "Train Acc: 0.9868132017552853\n",
            "Train  Loss   :t 0.03445241595618427\n",
            "Epoch : 4 / 20\n",
            "Validation Loss:v 0.03354007735227545\n",
            "Validation Acc: 0.986124649643898\n",
            "Train Acc: 0.9884492672979832\n",
            "Train  Loss   :t 0.027482391521334647\n",
            "Epoch : 5 / 20\n",
            "Validation Loss:v 0.03289222437888384\n",
            "Validation Acc: 0.9857103675603867\n",
            "Train Acc: 0.989058343321085\n",
            "Train  Loss   :t 0.024319621408358215\n",
            "Epoch : 6 / 20\n",
            "Validation Loss:v 0.02874436617518465\n",
            "Validation Acc: 0.9869970281918844\n",
            "Train Acc: 0.9889132536947727\n",
            "Train  Loss   :t 0.023492059437558055\n",
            "Epoch : 7 / 20\n",
            "Validation Loss:v 0.02986158135657509\n",
            "Validation Acc: 0.9864076127608618\n",
            "Train Acc: 0.989849778264761\n",
            "Train  Loss   :t 0.02051435080356896\n",
            "Epoch : 8 / 20\n",
            "Validation Loss:v 0.029697161478300888\n",
            "Validation Acc: 0.986896296342214\n",
            "Train Acc: 0.9907205432653428\n",
            "Train  Loss   :t 0.018155869701877235\n",
            "Epoch : 9 / 20\n",
            "Validation Loss:v 0.03217869127790133\n",
            "Validation Acc: 0.9861545910437902\n",
            "Train Acc: 0.990312460064888\n",
            "Train  Loss   :t 0.01898512972984463\n",
            "Epoch : 10 / 20\n",
            "Validation Loss:v 0.026547960626582306\n",
            "Validation Acc: 0.9879402965307236\n",
            "Train Acc: 0.9903794743120671\n",
            "Train  Loss   :t 0.018603441317100077\n",
            "Epoch : 11 / 20\n",
            "Validation Loss:v 0.026309843951215345\n",
            "Validation Acc: 0.988364020983378\n",
            "Train Acc: 0.9913273729383946\n",
            "Train  Loss   :t 0.016128976561594753\n",
            "Epoch : 12 / 20\n",
            "Validation Loss:v 0.027323288066933554\n",
            "Validation Acc: 0.9880834569533666\n",
            "Train Acc: 0.9917567364871502\n",
            "Train  Loss   :t 0.015148851473350078\n",
            "Epoch : 13 / 20\n",
            "Validation Loss:v 0.029892240185290575\n",
            "Validation Acc: 0.9877766321102778\n",
            "Train Acc: 0.9919740468263626\n",
            "Train  Loss   :t 0.014569988031871617\n",
            "Epoch : 14 / 20\n",
            "Validation Loss:v 0.028252179113527138\n",
            "Validation Acc: 0.9879979640245438\n",
            "Train Acc: 0.9918380320072174\n",
            "Train  Loss   :t 0.01474003962939605\n",
            "Epoch : 15 / 20\n",
            "Validation Loss:v 0.026629147895922262\n",
            "Validation Acc: 0.9882425218820572\n",
            "Train Acc: 0.9917674385011196\n",
            "Train  Loss   :t 0.01509514421923086\n",
            "Epoch : 16 / 20\n",
            "Validation Loss:v 0.03259009914472699\n",
            "Validation Acc: 0.9868079473574957\n",
            "Train Acc: 0.9918555676937103\n",
            "Train  Loss   :t 0.01483015266712755\n",
            "Epoch : 17 / 20\n",
            "Validation Loss:v 0.027973805864651997\n",
            "Validation Acc: 0.9883111466964086\n",
            "Train Acc: 0.9920668512582779\n",
            "Train  Loss   :t 0.014235820539761334\n",
            "Epoch : 18 / 20\n",
            "Validation Loss:v 0.026790357815722626\n",
            "Validation Acc: 0.9889447838068008\n",
            "Train Acc: 0.9924497976899147\n",
            "Train  Loss   :t 0.013292714999988676\n",
            "Epoch : 19 / 20\n",
            "Validation Loss:v 0.0266064559109509\n",
            "Validation Acc: 0.9889416297276815\n",
            "Train Acc: 0.992463019490242\n",
            "Train  Loss   :t 0.013235202722717077\n",
            "Epoch : 20 / 20\n",
            "Validation Loss:v 0.02726373526578148\n",
            "Validation Acc: 0.9889456977446874\n",
            "Train Acc: 0.9927996918559074\n",
            "Train  Loss   :t 0.012469745799899101\n"
          ]
        }
      ]
    },
    {
      "cell_type": "code",
      "source": [
        "import copy\n",
        "best_model_wts = copy.deepcopy(net.state_dict())\n",
        "torch.save({    \n",
        "    'epoch':40 + 1,\n",
        "    'model_state_dict':best_model_wts,\n",
        "    'optimizer_state_dict': optimizer.state_dict(),\n",
        "    'best_acc': 0.18\n",
        "},os.path.join(os.getcwd(),'/content/drive/Shareddrives/FurkanDataandModels/Furkan_covid/codes/lung_deepnet_{}_epo.pth'.format(20 + 1)))"
      ],
      "metadata": {
        "id": "JRWSseNElVOF"
      },
      "execution_count": null,
      "outputs": []
    },
    {
      "cell_type": "code",
      "source": [
        "# Save loss and acc information to the txt \n",
        "textfile = open(\"/content/drive/Shareddrives/FurkanDataandModels/Furkan_covid/codes/lung_deepnet_{}_epo.txt\".format(epoch_number), \"w\")\n",
        "biglist=val_loss_array+   train_loss_array+    acc_val_array+    acc_train_array\n",
        "textfile. write(\"running_loss_array+   train_loss_array+    acc_val_array+    acc_train_array\"+ \"\\n\")\n",
        "for element in [biglist]:\n",
        "    textfile. write(str(element) + \"\\n\")\n",
        "textfile. close()"
      ],
      "metadata": {
        "id": "g-mPrulmlriK"
      },
      "execution_count": null,
      "outputs": []
    }
  ]
}