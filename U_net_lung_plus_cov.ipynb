{
  "cells": [
    {
      "cell_type": "markdown",
      "metadata": {
        "id": "view-in-github",
        "colab_type": "text"
      },
      "source": [
        "<a href=\"https://colab.research.google.com/github/mbagci06/lung_covid/blob/main/U_net_lung_plus_cov.ipynb\" target=\"_parent\"><img src=\"https://colab.research.google.com/assets/colab-badge.svg\" alt=\"Open In Colab\"/></a>"
      ]
    },
    {
      "cell_type": "code",
      "execution_count": null,
      "metadata": {
        "id": "LGWjD0XF9yso",
        "colab": {
          "base_uri": "https://localhost:8080/"
        },
        "outputId": "00e4ec46-8f18-443b-807a-ac261f4a354a"
      },
      "outputs": [
        {
          "output_type": "stream",
          "name": "stdout",
          "text": [
            "Mounted at /content/drive\n"
          ]
        }
      ],
      "source": [
        "# BASICS \n",
        "import os\n",
        "import numpy as np\n",
        "import torch\n",
        "\n",
        "# Colab \n",
        "from pydrive.drive import GoogleDrive\n",
        "from google.colab import drive\n",
        "from google.colab import files\n",
        "from pydrive.auth import GoogleAuth\n",
        "from google.colab import auth\n",
        "import torchvision.transforms as transforms\n",
        "from oauth2client.client import GoogleCredentials\n",
        "drive.mount('/content/drive')\n",
        "auth.authenticate_user()\n",
        "gauth = GoogleAuth()\n",
        "gauth.credentials = GoogleCredentials.get_application_default()\n",
        "drive = GoogleDrive(gauth)\n",
        "# MODEL and TRAIN\n",
        "import torchvision\n",
        "import torchvision.models\n",
        "from torch.utils.data import DataLoader,Dataset\n",
        "import random\n",
        "from skimage import io\n",
        "import torch.nn as nn\n",
        "import torch.nn.functional as F\n",
        "from matplotlib import pyplot as plt\n",
        "from torch import optim\n",
        "from PIL import Image"
      ]
    },
    {
      "cell_type": "code",
      "execution_count": null,
      "metadata": {
        "id": "_N8jDko882Mr"
      },
      "outputs": [],
      "source": [
        "# The scripts contains some important functions have copied from the drive files in to the our script\n",
        "!cp /content/drive/Shareddrives/FurkanDataandModels/Furkan_covid/codes/functions.ipynb  /content\n",
        "!cp -R /content/drive/Shareddrives/FurkanDataandModels/Furkan_covid/codes/model /content"
      ]
    },
    {
      "cell_type": "code",
      "execution_count": null,
      "metadata": {
        "id": "QVypgdMuFuld",
        "colab": {
          "base_uri": "https://localhost:8080/"
        },
        "outputId": "3e77ac52-0f13-4420-fb41-834399046967"
      },
      "outputs": [
        {
          "output_type": "stream",
          "name": "stdout",
          "text": [
            "Drive already mounted at /content/drive; to attempt to forcibly remount, call drive.mount(\"/content/drive\", force_remount=True).\n"
          ]
        }
      ],
      "source": [
        "# running  .ipynb scripts to call their functions\n",
        "%run functions.ipynb\n",
        "from model.unet import UNet, PretrainedUNet"
      ]
    },
    {
      "cell_type": "code",
      "execution_count": null,
      "metadata": {
        "id": "0huM4idKuXt2",
        "colab": {
          "base_uri": "https://localhost:8080/",
          "height": 118,
          "referenced_widgets": [
            "8c990de48de64bd58e216f04368e4e4e",
            "7252f09806b24181855c59a8639593b9",
            "2d6a3ee55bce49cabdaca34cfcca4d37",
            "aac84017d4474e109eae274e5424527d",
            "ecf362e64fbc4e999b2f31fb1899832f",
            "7cd4bdc8728e4a13ac2f25e2b1baf41f",
            "2d33b78f0cb64fe6aa60ab42974630d2",
            "0747e3e4e9cb4477808bc523e13644c2",
            "09df81e3c1b24482b168adb1e198f63f",
            "49cad6db6e7f46649eb0c608b6942683",
            "be3a0f744fb0426ea4e09ba61d973b54"
          ]
        },
        "outputId": "2e1aedd1-799d-4464-f6d4-0e52dc25b799"
      },
      "outputs": [
        {
          "output_type": "stream",
          "name": "stdout",
          "text": [
            "6788\n",
            "1166\n"
          ]
        },
        {
          "output_type": "stream",
          "name": "stderr",
          "text": [
            "Downloading: \"https://download.pytorch.org/models/vgg11-8a719046.pth\" to /root/.cache/torch/hub/checkpoints/vgg11-8a719046.pth\n"
          ]
        },
        {
          "output_type": "display_data",
          "data": {
            "text/plain": [
              "  0%|          | 0.00/507M [00:00<?, ?B/s]"
            ],
            "application/vnd.jupyter.widget-view+json": {
              "version_major": 2,
              "version_minor": 0,
              "model_id": "8c990de48de64bd58e216f04368e4e4e"
            }
          },
          "metadata": {}
        },
        {
          "output_type": "execute_result",
          "data": {
            "text/plain": [
              "<All keys matched successfully>"
            ]
          },
          "metadata": {},
          "execution_count": 5
        }
      ],
      "source": [
        "# The Calling the validaton dataset\n",
        "lung_test=Lung_Dataset(split = \"Test\",class_folder='lung')# The length of the validation dataset to calculate the average value of the loss and accuracy\n",
        "lung_test_dataset_size=lung_test.__len__()\n",
        "# The Train dataset \n",
        "covid_test=Lung_Dataset(split = \"Test\",class_folder='covid')\n",
        "covid_test_dataset_size=covid_test.__len__()\n",
        "print(lung_test_dataset_size)\n",
        "print(covid_test_dataset_size)\n",
        "# Call cuda, if there is no GPU use CPU\n",
        "device=torch.device('cuda') if torch.cuda.is_available() else torch.device('cpu')\n",
        "# The model is called by this function from the model.py file \n",
        "net_lung = PretrainedUNet( in_channels=1, out_channels=2,batch_norm=True).to(device)\n",
        "checkpoint = torch.load('/content/drive/Shareddrives/FurkanDataandModels/Furkan_covid/codes/trained_model_txts/model_lung_pre_70_epoch.pt')\n",
        "net_lung.load_state_dict(checkpoint['model_state_dict'])\n",
        "\n",
        "\n",
        "\n",
        "net_covid = PretrainedUNet( in_channels=1, out_channels=2,batch_norm=True).to(device)\n",
        "\n",
        "checkpoint = torch.load('/content/drive/Shareddrives/FurkanDataandModels/Furkan_covid/codes/trained_model_txts/model_covid_pre_70_epoch.pt')\n",
        "net_covid.load_state_dict(checkpoint['model_state_dict'])"
      ]
    },
    {
      "cell_type": "code",
      "execution_count": null,
      "metadata": {
        "id": "Zual9umpPV3S"
      },
      "outputs": [],
      "source": [
        "batch_size=16\n",
        "# loading images and masks for mini epochs \n",
        "\n",
        "covid_test_loader = torch.utils.data.DataLoader(\n",
        "        covid_test, batch_size=batch_size,  num_workers=2, drop_last=False)"
      ]
    },
    {
      "cell_type": "code",
      "source": [
        "# The allocaton for accuracy data variables\n",
        "acc_covid_bin=0\n",
        "acc_lung_bin=0\n"
      ],
      "metadata": {
        "id": "5ceOw4SHxqCY"
      },
      "execution_count": null,
      "outputs": []
    },
    {
      "cell_type": "code",
      "execution_count": null,
      "metadata": {
        "id": "XbxMX9mIulgZ",
        "colab": {
          "base_uri": "https://localhost:8080/"
        },
        "outputId": "011f993b-a0aa-437e-86de-63127d1d6b48"
      },
      "outputs": [
        {
          "output_type": "stream",
          "name": "stdout",
          "text": [
            "Lung Acc dice: inf\n",
            "Lung Acc bin : tensor(0.9626, device='cuda:0')\n",
            "Lung Acc iou : tensor(0.3554, device='cuda:0')\n"
          ]
        }
      ],
      "source": [
        "for batch_idx, sample in enumerate(covid_test_loader):\n",
        "    # Validation data preparing  and calling \n",
        "    # calcel gradient feature \n",
        "    net_lung.eval()\n",
        "    net_covid.eval()\n",
        "    # Call iamge and mask\n",
        "    imgs , true_masks = sample['image'],sample['mask']\n",
        "\n",
        "    imgs = imgs.to(device=device)\n",
        "    true_masks=Negative_mask(true_masks,imgs.size(dim=0))\n",
        "    true_masks = true_masks[:,0,:,:].to(device=device)\n",
        "\n",
        "    with torch.set_grad_enabled(False):\n",
        "        # Test Evaluation\n",
        "        # output of the lung model\n",
        "        masks_pred_lung = net_lung(imgs)[:,0,:,:]\n",
        "        # output of the covid model\n",
        "        masks_pred_covid = net_covid(imgs)[:,0,:,:]\n",
        "        masks_pred_covid = masks_pred_covid.to(device=device)\n",
        "        masks_pred_lung = masks_pred_lung.to(device=device)\n",
        "        # acording to treshold create a mask with lung output\n",
        "        masks_pred_lung= torch.where(masks_pred_lung<=0.5, 0, 1)\n",
        "        # Use the mask on the covid output to eliminate the covid detection out of the lung\n",
        "        masks_pred=masks_pred_covid*masks_pred_lung\n",
        "\n",
        " \n",
        "        # Record the \n",
        "        acc_lung_bin +=binary_acc( masks_pred, true_masks)\n",
        "\n",
        "\n",
        "print('Lung Acc bin :',(acc_lung_bin)/(covid_test_dataset_size/batch_size))\n",
        "\n"
      ]
    }
  ],
  "metadata": {
    "accelerator": "GPU",
    "colab": {
      "collapsed_sections": [],
      "name": "U-net_lung_plus_cov.ipynb",
      "provenance": [],
      "include_colab_link": true
    },
    "kernelspec": {
      "display_name": "Python 3",
      "name": "python3"
    },
    "language_info": {
      "name": "python"
    },
    "widgets": {
      "application/vnd.jupyter.widget-state+json": {
        "8c990de48de64bd58e216f04368e4e4e": {
          "model_module": "@jupyter-widgets/controls",
          "model_name": "HBoxModel",
          "model_module_version": "1.5.0",
          "state": {
            "_dom_classes": [],
            "_model_module": "@jupyter-widgets/controls",
            "_model_module_version": "1.5.0",
            "_model_name": "HBoxModel",
            "_view_count": null,
            "_view_module": "@jupyter-widgets/controls",
            "_view_module_version": "1.5.0",
            "_view_name": "HBoxView",
            "box_style": "",
            "children": [
              "IPY_MODEL_7252f09806b24181855c59a8639593b9",
              "IPY_MODEL_2d6a3ee55bce49cabdaca34cfcca4d37",
              "IPY_MODEL_aac84017d4474e109eae274e5424527d"
            ],
            "layout": "IPY_MODEL_ecf362e64fbc4e999b2f31fb1899832f"
          }
        },
        "7252f09806b24181855c59a8639593b9": {
          "model_module": "@jupyter-widgets/controls",
          "model_name": "HTMLModel",
          "model_module_version": "1.5.0",
          "state": {
            "_dom_classes": [],
            "_model_module": "@jupyter-widgets/controls",
            "_model_module_version": "1.5.0",
            "_model_name": "HTMLModel",
            "_view_count": null,
            "_view_module": "@jupyter-widgets/controls",
            "_view_module_version": "1.5.0",
            "_view_name": "HTMLView",
            "description": "",
            "description_tooltip": null,
            "layout": "IPY_MODEL_7cd4bdc8728e4a13ac2f25e2b1baf41f",
            "placeholder": "​",
            "style": "IPY_MODEL_2d33b78f0cb64fe6aa60ab42974630d2",
            "value": "100%"
          }
        },
        "2d6a3ee55bce49cabdaca34cfcca4d37": {
          "model_module": "@jupyter-widgets/controls",
          "model_name": "FloatProgressModel",
          "model_module_version": "1.5.0",
          "state": {
            "_dom_classes": [],
            "_model_module": "@jupyter-widgets/controls",
            "_model_module_version": "1.5.0",
            "_model_name": "FloatProgressModel",
            "_view_count": null,
            "_view_module": "@jupyter-widgets/controls",
            "_view_module_version": "1.5.0",
            "_view_name": "ProgressView",
            "bar_style": "success",
            "description": "",
            "description_tooltip": null,
            "layout": "IPY_MODEL_0747e3e4e9cb4477808bc523e13644c2",
            "max": 531460341,
            "min": 0,
            "orientation": "horizontal",
            "style": "IPY_MODEL_09df81e3c1b24482b168adb1e198f63f",
            "value": 531460341
          }
        },
        "aac84017d4474e109eae274e5424527d": {
          "model_module": "@jupyter-widgets/controls",
          "model_name": "HTMLModel",
          "model_module_version": "1.5.0",
          "state": {
            "_dom_classes": [],
            "_model_module": "@jupyter-widgets/controls",
            "_model_module_version": "1.5.0",
            "_model_name": "HTMLModel",
            "_view_count": null,
            "_view_module": "@jupyter-widgets/controls",
            "_view_module_version": "1.5.0",
            "_view_name": "HTMLView",
            "description": "",
            "description_tooltip": null,
            "layout": "IPY_MODEL_49cad6db6e7f46649eb0c608b6942683",
            "placeholder": "​",
            "style": "IPY_MODEL_be3a0f744fb0426ea4e09ba61d973b54",
            "value": " 507M/507M [00:05&lt;00:00, 111MB/s]"
          }
        },
        "ecf362e64fbc4e999b2f31fb1899832f": {
          "model_module": "@jupyter-widgets/base",
          "model_name": "LayoutModel",
          "model_module_version": "1.2.0",
          "state": {
            "_model_module": "@jupyter-widgets/base",
            "_model_module_version": "1.2.0",
            "_model_name": "LayoutModel",
            "_view_count": null,
            "_view_module": "@jupyter-widgets/base",
            "_view_module_version": "1.2.0",
            "_view_name": "LayoutView",
            "align_content": null,
            "align_items": null,
            "align_self": null,
            "border": null,
            "bottom": null,
            "display": null,
            "flex": null,
            "flex_flow": null,
            "grid_area": null,
            "grid_auto_columns": null,
            "grid_auto_flow": null,
            "grid_auto_rows": null,
            "grid_column": null,
            "grid_gap": null,
            "grid_row": null,
            "grid_template_areas": null,
            "grid_template_columns": null,
            "grid_template_rows": null,
            "height": null,
            "justify_content": null,
            "justify_items": null,
            "left": null,
            "margin": null,
            "max_height": null,
            "max_width": null,
            "min_height": null,
            "min_width": null,
            "object_fit": null,
            "object_position": null,
            "order": null,
            "overflow": null,
            "overflow_x": null,
            "overflow_y": null,
            "padding": null,
            "right": null,
            "top": null,
            "visibility": null,
            "width": null
          }
        },
        "7cd4bdc8728e4a13ac2f25e2b1baf41f": {
          "model_module": "@jupyter-widgets/base",
          "model_name": "LayoutModel",
          "model_module_version": "1.2.0",
          "state": {
            "_model_module": "@jupyter-widgets/base",
            "_model_module_version": "1.2.0",
            "_model_name": "LayoutModel",
            "_view_count": null,
            "_view_module": "@jupyter-widgets/base",
            "_view_module_version": "1.2.0",
            "_view_name": "LayoutView",
            "align_content": null,
            "align_items": null,
            "align_self": null,
            "border": null,
            "bottom": null,
            "display": null,
            "flex": null,
            "flex_flow": null,
            "grid_area": null,
            "grid_auto_columns": null,
            "grid_auto_flow": null,
            "grid_auto_rows": null,
            "grid_column": null,
            "grid_gap": null,
            "grid_row": null,
            "grid_template_areas": null,
            "grid_template_columns": null,
            "grid_template_rows": null,
            "height": null,
            "justify_content": null,
            "justify_items": null,
            "left": null,
            "margin": null,
            "max_height": null,
            "max_width": null,
            "min_height": null,
            "min_width": null,
            "object_fit": null,
            "object_position": null,
            "order": null,
            "overflow": null,
            "overflow_x": null,
            "overflow_y": null,
            "padding": null,
            "right": null,
            "top": null,
            "visibility": null,
            "width": null
          }
        },
        "2d33b78f0cb64fe6aa60ab42974630d2": {
          "model_module": "@jupyter-widgets/controls",
          "model_name": "DescriptionStyleModel",
          "model_module_version": "1.5.0",
          "state": {
            "_model_module": "@jupyter-widgets/controls",
            "_model_module_version": "1.5.0",
            "_model_name": "DescriptionStyleModel",
            "_view_count": null,
            "_view_module": "@jupyter-widgets/base",
            "_view_module_version": "1.2.0",
            "_view_name": "StyleView",
            "description_width": ""
          }
        },
        "0747e3e4e9cb4477808bc523e13644c2": {
          "model_module": "@jupyter-widgets/base",
          "model_name": "LayoutModel",
          "model_module_version": "1.2.0",
          "state": {
            "_model_module": "@jupyter-widgets/base",
            "_model_module_version": "1.2.0",
            "_model_name": "LayoutModel",
            "_view_count": null,
            "_view_module": "@jupyter-widgets/base",
            "_view_module_version": "1.2.0",
            "_view_name": "LayoutView",
            "align_content": null,
            "align_items": null,
            "align_self": null,
            "border": null,
            "bottom": null,
            "display": null,
            "flex": null,
            "flex_flow": null,
            "grid_area": null,
            "grid_auto_columns": null,
            "grid_auto_flow": null,
            "grid_auto_rows": null,
            "grid_column": null,
            "grid_gap": null,
            "grid_row": null,
            "grid_template_areas": null,
            "grid_template_columns": null,
            "grid_template_rows": null,
            "height": null,
            "justify_content": null,
            "justify_items": null,
            "left": null,
            "margin": null,
            "max_height": null,
            "max_width": null,
            "min_height": null,
            "min_width": null,
            "object_fit": null,
            "object_position": null,
            "order": null,
            "overflow": null,
            "overflow_x": null,
            "overflow_y": null,
            "padding": null,
            "right": null,
            "top": null,
            "visibility": null,
            "width": null
          }
        },
        "09df81e3c1b24482b168adb1e198f63f": {
          "model_module": "@jupyter-widgets/controls",
          "model_name": "ProgressStyleModel",
          "model_module_version": "1.5.0",
          "state": {
            "_model_module": "@jupyter-widgets/controls",
            "_model_module_version": "1.5.0",
            "_model_name": "ProgressStyleModel",
            "_view_count": null,
            "_view_module": "@jupyter-widgets/base",
            "_view_module_version": "1.2.0",
            "_view_name": "StyleView",
            "bar_color": null,
            "description_width": ""
          }
        },
        "49cad6db6e7f46649eb0c608b6942683": {
          "model_module": "@jupyter-widgets/base",
          "model_name": "LayoutModel",
          "model_module_version": "1.2.0",
          "state": {
            "_model_module": "@jupyter-widgets/base",
            "_model_module_version": "1.2.0",
            "_model_name": "LayoutModel",
            "_view_count": null,
            "_view_module": "@jupyter-widgets/base",
            "_view_module_version": "1.2.0",
            "_view_name": "LayoutView",
            "align_content": null,
            "align_items": null,
            "align_self": null,
            "border": null,
            "bottom": null,
            "display": null,
            "flex": null,
            "flex_flow": null,
            "grid_area": null,
            "grid_auto_columns": null,
            "grid_auto_flow": null,
            "grid_auto_rows": null,
            "grid_column": null,
            "grid_gap": null,
            "grid_row": null,
            "grid_template_areas": null,
            "grid_template_columns": null,
            "grid_template_rows": null,
            "height": null,
            "justify_content": null,
            "justify_items": null,
            "left": null,
            "margin": null,
            "max_height": null,
            "max_width": null,
            "min_height": null,
            "min_width": null,
            "object_fit": null,
            "object_position": null,
            "order": null,
            "overflow": null,
            "overflow_x": null,
            "overflow_y": null,
            "padding": null,
            "right": null,
            "top": null,
            "visibility": null,
            "width": null
          }
        },
        "be3a0f744fb0426ea4e09ba61d973b54": {
          "model_module": "@jupyter-widgets/controls",
          "model_name": "DescriptionStyleModel",
          "model_module_version": "1.5.0",
          "state": {
            "_model_module": "@jupyter-widgets/controls",
            "_model_module_version": "1.5.0",
            "_model_name": "DescriptionStyleModel",
            "_view_count": null,
            "_view_module": "@jupyter-widgets/base",
            "_view_module_version": "1.2.0",
            "_view_name": "StyleView",
            "description_width": ""
          }
        }
      }
    }
  },
  "nbformat": 4,
  "nbformat_minor": 0
}